{
  "cells": [
    {
      "cell_type": "markdown",
      "metadata": {
        "id": "ukEG9tqlXHvL"
      },
      "source": [
        "<h2>CS 3780/5780 Creative Project: </h2>\n",
        "<h3>Emotion Classification of Natural Language</h3>\n",
        "\n",
        "Names and NetIDs for your group members:\n",
        "\n",
        "Mary Yuan (cy452)\n",
        "\n",
        "Noa Kaplan (nk675)\n",
        "\n",
        "Tejasvi Yadav (ty386)"
      ]
    },
    {
      "cell_type": "markdown",
      "metadata": {
        "id": "jU0n1zwYXHvN"
      },
      "source": [
        "<h3>Introduction:</h3>\n",
        "\n",
        "<p> The creative project is about conducting a real-world machine learning project on your own, with everything that is involved. Unlike in the programming projects 1-5, where we gave you all the scaffolding and you just filled in the blanks, you now start from scratch. The past programming projects provide templates for how to do this (and you can reuse part of your code if you wish), and the lectures provide some of the methods you can use. So, this creative project brings realism to how you will use machine learning in the real world.  </p>\n",
        "\n",
        "The task you will work on is classifying texts to human emotions. Through words, humans express feelings, articulate thoughts, and communicate our deepest needs and desires. Language helps us interpret the nuances of joy, sadness, anger, and love, allowing us to connect with others on a deeper level. Are you able to train an ML model that recognizes the human emotions expressed in a piece of text? <b>Please read the project description PDF file carefully and follow the instructions there. Also make sure you write your code and answers to all the questions in this Jupyter Notebook </b> </p>\n",
        "<p>\n"
      ]
    },
    {
      "cell_type": "markdown",
      "metadata": {
        "id": "KJ8xI-sCXHvO"
      },
      "source": [
        "<h2>Part 0: Preliminaries</h2><p>"
      ]
    },
    {
      "cell_type": "markdown",
      "metadata": {
        "id": "yM5IFoPmXHvP"
      },
      "source": [
        "<h3>0.1 Import:</h3><p>\n",
        "Please import necessary packages to use. Note that learning and using packages are recommended but not required for this project. Some official tutorial for suggested packacges includes:\n",
        "    \n",
        "https://scikit-learn.org/stable/tutorial/basic/tutorial.html\n",
        "    \n",
        "https://pytorch.org/tutorials/\n",
        "    \n",
        "https://pandas.pydata.org/pandas-docs/stable/user_guide/10min.html\n",
        "<p>"
      ]
    },
    {
      "cell_type": "code",
      "execution_count": null,
      "metadata": {
        "id": "ML0ctlvPXHvP"
      },
      "outputs": [],
      "source": [
        "import os\n",
        "import pandas as pd\n",
        "import numpy as np\n",
        "import torch\n",
        "from sklearn.feature_extraction.text import CountVectorizer\n",
        "from sklearn.model_selection import train_test_split\n",
        "from sklearn.tree import DecisionTreeClassifier\n",
        "from sklearn.ensemble import AdaBoostClassifier\n",
        "from sklearn.datasets import load_breast_cancer\n",
        "from sklearn.metrics import confusion_matrix\n",
        "from sklearn.svm import LinearSVC\n",
        "from sklearn.linear_model import LogisticRegression\n",
        "from tensorflow.keras.models import Sequential\n",
        "from tensorflow.keras.layers import Dense, Dropout\n"
      ]
    },
    {
      "cell_type": "markdown",
      "metadata": {
        "id": "1kV88_t8XHvQ"
      },
      "source": [
        "<h3>0.2 Accuracy:</h3><p>\n",
        "To measure your performance in the Kaggle Competition, we are using accuracy. As a recap, accuracy is the percent of labels you predict correctly. To measure this, you can use library functions from sklearn. A simple example is shown below.\n",
        "<p>"
      ]
    },
    {
      "cell_type": "code",
      "execution_count": null,
      "metadata": {
        "id": "BhBNI12_XHvR",
        "outputId": "475c27d0-cd7f-4850-e4c8-6089c65a6909"
      },
      "outputs": [
        {
          "data": {
            "text/plain": [
              "0.42857142857142855"
            ]
          },
          "execution_count": 11,
          "metadata": {},
          "output_type": "execute_result"
        }
      ],
      "source": [
        "from sklearn.metrics import accuracy_score\n",
        "y_pred = [3, 2, 1, 0, 1, 2, 3]\n",
        "y_true = [0, 1, 2, 3, 1, 2, 3]\n",
        "accuracy_score(y_true, y_pred)"
      ]
    },
    {
      "cell_type": "markdown",
      "metadata": {
        "id": "a9fuH5ZzXHvS"
      },
      "source": [
        "<h2>Part 1: Basics</h2><p>\n",
        "Note that your code should be commented well and in part 1.4 you can refer to your comments."
      ]
    },
    {
      "cell_type": "markdown",
      "metadata": {
        "id": "E7GAuH_dXHvS"
      },
      "source": [
        "<h3>1.1 Load and preprocess the dataset:</h3><p>\n",
        "We provide how to load the data on Kaggle's Notebook.\n",
        "<p>"
      ]
    },
    {
      "cell_type": "code",
      "execution_count": null,
      "metadata": {
        "id": "L_krawddXHvS"
      },
      "outputs": [],
      "source": [
        "train = pd.read_csv(\"/kaggle/input/cs-3780-5780-how-do-you-feel/train.csv\")\n",
        "train_text = train[\"text\"]\n",
        "train_label = train[\"label\"]\n",
        "\n",
        "test = pd.read_csv(\"/kaggle/input/cs-3780-5780-how-do-you-feel/test.csv\")\n",
        "test_id = test[\"id\"]\n",
        "test_text = test[\"text\"]"
      ]
    },
    {
      "cell_type": "markdown",
      "source": [
        "Pre-processing training data and splitting"
      ],
      "metadata": {
        "id": "pClJGdm3ZhpT"
      }
    },
    {
      "cell_type": "code",
      "execution_count": null,
      "metadata": {
        "id": "B2M5YYGnXHvT"
      },
      "outputs": [],
      "source": [
        "# changing text data to bag of words\n",
        "train_text.astype(str)\n",
        "vectorizer = CountVectorizer()\n",
        "\n",
        "train_text = vectorizer.fit_transform(train_text)\n",
        "\n",
        "# put into a pandas dataframe\n",
        "train_text = pd.DataFrame(train_text.toarray(), columns=vectorizer.get_feature_names_out())\n",
        "\n",
        "# changing the training dataset to numpy arrays\n",
        "train_data = np.array(train_text)\n",
        "label_data = np.array(train_label)\n",
        "\n",
        "# splitting into train and validation\n",
        "\n",
        "x_train, x_val, y_train, y_val= train_test_split(train_data,label_data, test_size=0.30, random_state=42)"
      ]
    },
    {
      "cell_type": "markdown",
      "source": [
        "Pre-processing the test dataset"
      ],
      "metadata": {
        "id": "PIEjdnNXki7d"
      }
    },
    {
      "cell_type": "code",
      "source": [
        "#vectorize the test data\n",
        "test_text.astype(str)\n",
        "test_text = vectorizer.transform(test_text.astype(str))\n",
        "test_text = pd.DataFrame(test_text.toarray(), columns=vectorizer.get_feature_names_out())"
      ],
      "metadata": {
        "id": "6X2IDTGFkqXV"
      },
      "execution_count": null,
      "outputs": []
    },
    {
      "cell_type": "markdown",
      "metadata": {
        "id": "ZMFowzh1XHvT"
      },
      "source": [
        "<h3>1.2 Use At Least Two Training Algorithms from class:</h3><p>\n",
        "You need to use at least two training algorithms from class. You can use your code from previous projects or any packages you imported in part 0.1."
      ]
    },
    {
      "cell_type": "markdown",
      "source": [
        "#####1. Decision Tree Algorithm"
      ],
      "metadata": {
        "id": "leDJLmc6Z2Me"
      }
    },
    {
      "cell_type": "code",
      "execution_count": null,
      "metadata": {
        "id": "OFP2MbpnXHvT"
      },
      "outputs": [],
      "source": [
        "# initiate the decision tree classifier\n",
        "dtree_unpruned = DecisionTreeClassifier()\n",
        "\n",
        "# fit the decision tree and predict on the train data to get training accuracy\n",
        "dtree_unpruned.fit(x_train,y_train)\n",
        "train_tree_pred = dtree_unpruned.predict(x_train)\n",
        "\n",
        "# calculate the accuracy score\n",
        "accuracy = accuracy_score(y_train, train_tree_pred)\n",
        "\n",
        "# use our decision tree on validation data and calculate its accuracy\n",
        "val_tree_pred= dtree1.predict(x_val)\n",
        "val_accuracy = accuracy_score(y_val, val_tree_pred)\n"
      ]
    },
    {
      "cell_type": "markdown",
      "source": [
        "#####2. ADABoost\n",
        "\n"
      ],
      "metadata": {
        "id": "pNYRx7a8e1F8"
      }
    },
    {
      "cell_type": "code",
      "source": [
        "# initiate classifier\n",
        "classifier = AdaBoostClassifier(\n",
        "    DecisionTreeClassifier(max_depth = 10),\n",
        "    n_estimators = 100\n",
        ")\n",
        "\n",
        "# fit the classifier\n",
        "classifier.fit(x_train, y_train)\n",
        "\n",
        "# predict the training data and print its accuracy\n",
        "pt = classifier.predict(x_train)\n",
        "\n",
        "print(\"training accuracy: \" + str(accuracy_score(y_train, pt)))\n",
        "\n",
        "# predict the validation data and predict its accuracy\n",
        "val_preds = classifier.predict(x_val)\n",
        "\n",
        "print(\"validation accuracy: \" + str(accuracy_score(y_val, val_preds)))"
      ],
      "metadata": {
        "id": "8gSohTUZe0zg"
      },
      "execution_count": null,
      "outputs": []
    },
    {
      "cell_type": "markdown",
      "source": [
        "#####3. Linear SVM"
      ],
      "metadata": {
        "id": "nhi4Afd1or6g"
      }
    },
    {
      "cell_type": "code",
      "source": [
        "# initiate the model\n",
        "sv_model = LinearSVC()\n",
        "\n",
        "# fit the model to test\n",
        "sv_model.fit(x_train, y_train)\n",
        "\n",
        "# find the training accuracy\n",
        "train_sv_pred = sv_model.predict(x_train)\n",
        "print(\"training accuracy: \" + str(accuracy_score(y_train, train_sv_pred)))\n",
        "\n",
        "# find the validation accuracy\n",
        "val_sv_pred = sv_model.predict(x_val)\n",
        "print(\"validation accuracy: \" + str(accuracy_score(y_val, val_sv_pred)))\n"
      ],
      "metadata": {
        "id": "15Z7vL7yovuk"
      },
      "execution_count": null,
      "outputs": []
    },
    {
      "cell_type": "markdown",
      "source": [
        "#####4. Logistic Regression"
      ],
      "metadata": {
        "id": "PkcOaWxvzMRm"
      }
    },
    {
      "cell_type": "code",
      "source": [
        "# initialize the model\n",
        "log_model = LogisticRegression(max_iter=500, random_state=42)\n",
        "\n",
        "# fit the model to the training data\n",
        "log_model.fit(x_train, y_train)\n",
        "\n",
        "# find the training accuracy\n",
        "train_log_pred = log_model.predict(x_train)\n",
        "print(\"training accuracy: \" + str(accuracy_score(y_train, train_log_pred)))\n",
        "\n",
        "# find the validation accuracy\n",
        "val_log_pred= log_model.predict(x_val)\n",
        "print(\"validation accuracy: \" + str(accuracy_score(y_val, val_log_pred)))"
      ],
      "metadata": {
        "id": "DXQgUHbFzytS"
      },
      "execution_count": null,
      "outputs": []
    },
    {
      "cell_type": "markdown",
      "source": [
        "#####5. Neural Network"
      ],
      "metadata": {
        "id": "D4jdny-g0gDz"
      }
    },
    {
      "cell_type": "code",
      "source": [
        "# initialize the model\n",
        "nn_model = Sequential([\n",
        "    Dense(512, activation='relu', input_dim=x_train.shape[1]),\n",
        "    Dropout(0.5),\n",
        "    Dense(28, activation='softmax')\n",
        "])\n",
        "\n",
        "# compile and fit the model\n",
        "nn_model.compile(optimizer='adam', loss='sparse_categorical_crossentropy', metrics=['accuracy'])\n",
        "nn_model.fit(x_train, y_train, epochs=15, batch_size=32)\n",
        "\n",
        "# find the training accuracy\n",
        "train_nn = nn_model.predict(x_train)\n",
        "train_nn_pred = np.argmax(train_nn, axis=1)\n",
        "print(\"training accuracy: \" + str(accuracy_score(y_train, train_nn_pred)))\n",
        "\n",
        "# find the validation accuracy\n",
        "val_nn= nn_model.predict(x_val)\n",
        "val_nn_pred = np.argmax(val_nn, axis=1)\n",
        "print(\"validation accuracy: \" + str(accuracy_score(y_val, val_nn_pred)))"
      ],
      "metadata": {
        "id": "KwcT7G2q0i1u"
      },
      "execution_count": null,
      "outputs": []
    },
    {
      "cell_type": "markdown",
      "metadata": {
        "id": "FTwHnGbxXHvT"
      },
      "source": [
        "<h3>1.3 Training, Validation and Model Selection:</h3><p>\n",
        "You need to split your data to a training set and validation set or performing a cross-validation for model selection."
      ]
    },
    {
      "cell_type": "code",
      "execution_count": null,
      "metadata": {
        "id": "fIkYQA9HXHvT"
      },
      "outputs": [],
      "source": [
        "# splitting into train and validation\n",
        "\n",
        "x_train, x_val, y_train, y_val= train_test_split(train_data,label_data, test_size=0.30, random_state=42)"
      ]
    },
    {
      "cell_type": "markdown",
      "metadata": {
        "id": "9ApVR4QiXHvU"
      },
      "source": [
        "<h3>1.4 Explanation in Words:</h3><p>\n",
        "    You need to answer the following questions in the markdown cell after this cell:"
      ]
    },
    {
      "cell_type": "markdown",
      "metadata": {
        "id": "WF1aeQQoXHvU"
      },
      "source": [
        "####1.4.1 How did you formulate the learning problem?\n",
        "\n",
        "We found this to be a multi-class classification, as there are 28 emotion classes.\n",
        "\n",
        "####1.4.2 Which two learning methods from class did you choose and why did you made the choices?\n",
        "\n",
        "We chose the decision tree algorithm, the adaboost algorithm, the linear support vector machine, logistic regression, and a neural network because we felt that it covered a wide range of learning methods. Since these methods are all very different from each other, we felt that we will discover a model that works well with the dataset out of them.\n",
        "\n",
        "####1.4.3 How did you do the model selection?\n",
        "\n",
        "We picked the model based on how well it performed on the validation dataset. Out of the methods we picked, we found that the logistic regression had the best performance on the validation dataset without any tuning.\n",
        "\n",
        "####1.4.4 Does the test performance reach the first baseline \"Tiny Piney\"? (Please include a screenshot of Kaggle Submission)\n",
        "\n",
        "Yes. We managed to surpass the baseline with the logistic regression model, receiving a public accuracy score of 0.6789."
      ]
    },
    {
      "cell_type": "markdown",
      "source": [
        "![Screenshot 2024-12-09 at 1.04.36 PM.png](data:image/png;base64,iVBORw0KGgoAAAANSUhEUgAACC4AAAClCAYAAACZDS5pAAAKq2lDQ1BJQ0MgUHJvZmlsZQAASImVlwdQU+kWgP9700NCS4h0Qm+CdAJICaGFIr2KSkgChBJiIIDYEFlcgbWgIgIW0FURBVelyFoRxYIoKnZdkEVAWRcLoqLyLjCE3X3z3pt3Zs783z33/Kf8c/+ZcwEgy3NEolRYHoA0YaY4xNudHhUdQ8cNAQjgARkoAQcON0PEDAryB4jMrn+Xj/cRb0Tumk3F+vf3/1UUePwMLgBQEMLxvAxuGsKnEH3FFYkzAUDtQ+y62ZmiKW5HmCpGCkT44RQnzvDIFMdPMxpM+4SFsBCmAoAncTjiRABIdMROz+ImInFIbghbCHkCIcIihF3S0tJ5CB9H2AjxQWykqfiM+L/ESfxbzHhpTA4nUcozvUwL3kOQIUrlrPg/j+N/S1qqZDaHAaKkJLFPCLIqImf2MCXdT8rC+EWBsyzgTftPc5LEJ3yWuRmsmFnmcTz8pHtTF/nPcoLAiy2Nk8kOm2V+hmfoLIvTQ6S5EsQs5ixzxHN5JSnhUnsSny2Nn5sUFjnLWYKIRbOckRLqN+fDktrFkhBp/Xyht/tcXi9p72kZf+lXwJbuzUwK85H2zpmrny9kzsXMiJLWxuN7eM75hEv9RZnu0lyi1CCpPz/VW2rPyAqV7s1EPsi5vUHSM0zm+AbNMmCBdJCKqBjQgT/y5AFAJj8nc6oRVrpohViQmJRJZyI3jE9nC7nm8+lWFlY2AEzd15nP4T1t+h5CtOtztvVI786bJicnz8zZ/FYCcGIMAOLNOZsRGQC51QBcPcCViLNmbNN3CQOIQA5QgQrQBLrACJgBK2AHnIAb8AS+IBCEgWiwFHBBEkhDKs8Gq8A6UAiKwRawA1SAvWA/OAyOgROgGZwBF8EVcAPcBj3gCegFA+A1GAUfwQQEQTiIDFEgFUgL0odMISuIAblAnpA/FAJFQ3FQIiSEJNAqaD1UDJVCFVA1VAv9Ap2GLkLXoG7oEdQHDUPvoC8wCibBVFgDNoAXwAyYCfvBYfASOBFeDufCBfAmuByugY/CTfBF+AbcA/fCr+ExFEDJoGgobZQZioFioQJRMagElBi1BlWEKkPVoOpRragO1F1UL2oE9RmNRVPQdLQZ2gntgw5Hc9HL0WvQJegK9GF0E7odfRfdhx5Ff8eQMeoYU4wjho2JwiRisjGFmDLMQUwj5jKmBzOA+YjFYmlYQ6w91gcbjU3GrsSWYHdjG7AXsN3YfuwYDodTwZninHGBOA4uE1eI24U7ijuPu4MbwH3Cy+C18FZ4L3wMXojPx5fhj+DP4e/gB/ETBHmCPsGREEjgEVYQNhMOEFoJtwgDhAmiAtGQ6EwMIyYT1xHLifXEy8SnxPcyMjI6Mg4ywTICmTyZcpnjMldl+mQ+kxRJJiQWKZYkIW0iHSJdID0ivSeTyQZkN3IMOZO8iVxLvkR+Tv4kS5E1l2XL8mTXylbKNsnekX0jR5DTl2PKLZXLlSuTOyl3S25EniBvIM+S58ivka+UPy3/QH5MgaJgqRCokKZQonBE4ZrCkCJO0UDRU5GnWKC4X/GSYj8FRdGlsChcynrKAcplygAVSzWksqnJ1GLqMWoXdVRJUclGKUIpR6lS6axSLw1FM6Cxaam0zbQTtPu0L/M05jHn8edtnFc/7868cWU1ZTdlvnKRcoNyj/IXFbqKp0qKylaVZpVnqmhVE9Vg1WzVPaqXVUfUqGpOaly1IrUTao/VYXUT9RD1ler71TvVxzQ0Nbw1RBq7NC5pjGjSNN00kzW3a57THNaiaLloCbS2a53XekVXojPpqfRyejt9VFtd20dbol2t3aU9oWOoE66Tr9Og80yXqMvQTdDdrtumO6qnpRegt0qvTu+xPkGfoZ+kv1O/Q3/cwNAg0mCDQbPBkKGyIdsw17DO8KkR2cjVaLlRjdE9Y6wxwzjFeLfxbRPYxNYkyaTS5JYpbGpnKjDdbdo9HzPfYb5wfs38B2YkM6ZZllmdWZ85zdzfPN+82fzNAr0FMQu2LuhY8N3C1iLV4oDFE0tFS1/LfMtWy3dWJlZcq0qre9Zkay/rtdYt1m9tTG34NntsHtpSbANsN9i22X6zs7cT29XbDdvr2cfZV9k/YFAZQYwSxlUHjIO7w1qHMw6fHe0cMx1POP7pZOaU4nTEaWih4UL+wgML+511nDnO1c69LnSXOJd9Lr2u2q4c1xrXF266bjy3g26DTGNmMvMo8427hbvYvdF9nOXIWs264IHy8PYo8ujyVPQM96zwfO6l45XoVec16m3rvdL7gg/Gx89nq88Dtgaby65lj/ra+672bfcj+YX6Vfi98DfxF/u3BsABvgHbAp4u0l8kXNQcCALZgdsCnwUZBi0P+jUYGxwUXBn8MsQyZFVIRygldFnokdCPYe5hm8OehBuFS8LbIuQiYiNqI8YjPSJLI3ujFkStjroRrRotiG6JwcVExByMGVvsuXjH4oFY29jC2PtLDJfkLLm2VHVp6tKzy+SWcZadjMPERcYdifvKCeTUcMbi2fFV8aNcFncn9zXPjbedN8x35pfyBxOcE0oThhKdE7clDie5JpUljQhYggrB22Sf5L3J4ymBKYdSJlMjUxvS8GlxaaeFisIUYXu6ZnpOerfIVFQo6l3uuHzH8lGxn/hgBpSxJKMlk4oMRp0SI8kPkr4sl6zKrE/ZEdkncxRyhDmdK0xWbFwxmOuV+/NK9EruyrZV2qvWrepbzVxdvQZaE7+mba3u2oK1A3neeYfXEdelrLuZb5Ffmv9hfeT61gKNgryC/h+8f6grlC0UFz7Y4LRh74/oHwU/dm203rhr4/ciXtH1YovisuKvJdyS6z9Z/lT+0+SmhE1dm+0279mC3SLccn+r69bDpQqluaX92wK2NW2nby/a/mHHsh3XymzK9u4k7pTs7C33L2/Zpbdry66vFUkVPZXulQ1V6lUbq8Z383bf2eO2p36vxt7ivV/2CfY9rPaubqoxqCnbj92ftf/lgYgDHT8zfq49qHqw+OC3Q8JDvYdDDrfX2tfWHlE/srkOrpPUDR+NPXr7mMexlnqz+uoGWkPxcXBccvzVL3G/3D/hd6LtJONk/Sn9U1WNlMaiJqhpRdNoc1Jzb0t0S/dp39NtrU6tjb+a/3rojPaZyrNKZzefI54rODd5Pvf82AXRhZGLiRf725a1PbkUdelee3B712W/y1eveF251MHsOH/V+eqZa47XTl9nXG++YXejqdO2s/Gm7c3GLruuplv2t1puO9xu7V7Yfe6O652Ldz3uXrnHvnejZ1FP9/3w+w8fxD7ofch7OPQo9dHbx1mPJ57kPcU8LXom/6zsufrzmt+Mf2votes92+fR1/ki9MWTfm7/698zfv86UPCS/LJsUGuwdshq6Myw1/DtV4tfDbwWvZ4YKfxD4Y+qN0ZvTv3p9mfnaNTowFvx28l3Je9V3h/6YPOhbSxo7PnHtI8T40WfVD4d/sz43PEl8svgRPZX3Nfyb8bfWr/7fX86mTY5KeKIOdOjAApROCEBgHeHACBHA0C5jcwPi2fm6WmBZv4Bpgn8J56ZuafFDoB6ZJkai1gXADiOqEEeALJuAEyNRGFuALa2lurs7Ds9p08JFvlj2ec8RT3KvDzwD5mZ4f9S9z9XMBXVBvxz/Rc30gZrnsAjJgAAAJZlWElmTU0AKgAAAAgABQESAAMAAAABAAEAAAEaAAUAAAABAAAASgEbAAUAAAABAAAAUgEoAAMAAAABAAIAAIdpAAQAAAABAAAAWgAAAAAAAACQAAAAAQAAAJAAAAABAAOShgAHAAAAEgAAAISgAgAEAAAAAQAACC6gAwAEAAAAAQAAAKUAAAAAQVNDSUkAAABTY3JlZW5zaG90EMGXgwAAAAlwSFlzAAAWJQAAFiUBSVIk8AAAAt1pVFh0WE1MOmNvbS5hZG9iZS54bXAAAAAAADx4OnhtcG1ldGEgeG1sbnM6eD0iYWRvYmU6bnM6bWV0YS8iIHg6eG1wdGs9IlhNUCBDb3JlIDYuMC4wIj4KICAgPHJkZjpSREYgeG1sbnM6cmRmPSJodHRwOi8vd3d3LnczLm9yZy8xOTk5LzAyLzIyLXJkZi1zeW50YXgtbnMjIj4KICAgICAgPHJkZjpEZXNjcmlwdGlvbiByZGY6YWJvdXQ9IiIKICAgICAgICAgICAgeG1sbnM6ZXhpZj0iaHR0cDovL25zLmFkb2JlLmNvbS9leGlmLzEuMC8iCiAgICAgICAgICAgIHhtbG5zOnRpZmY9Imh0dHA6Ly9ucy5hZG9iZS5jb20vdGlmZi8xLjAvIj4KICAgICAgICAgPGV4aWY6VXNlckNvbW1lbnQ+U2NyZWVuc2hvdDwvZXhpZjpVc2VyQ29tbWVudD4KICAgICAgICAgPGV4aWY6UGl4ZWxYRGltZW5zaW9uPjI4ODA8L2V4aWY6UGl4ZWxYRGltZW5zaW9uPgogICAgICAgICA8ZXhpZjpQaXhlbFlEaW1lbnNpb24+MTgwMDwvZXhpZjpQaXhlbFlEaW1lbnNpb24+CiAgICAgICAgIDx0aWZmOlJlc29sdXRpb25Vbml0PjI8L3RpZmY6UmVzb2x1dGlvblVuaXQ+CiAgICAgICAgIDx0aWZmOlhSZXNvbHV0aW9uPjE0NC8xPC90aWZmOlhSZXNvbHV0aW9uPgogICAgICAgICA8dGlmZjpZUmVzb2x1dGlvbj4xNDQvMTwvdGlmZjpZUmVzb2x1dGlvbj4KICAgICAgICAgPHRpZmY6T3JpZW50YXRpb24+MTwvdGlmZjpPcmllbnRhdGlvbj4KICAgICAgPC9yZGY6RGVzY3JpcHRpb24+CiAgIDwvcmRmOlJERj4KPC94OnhtcG1ldGE+CovGAWkAAEAASURBVHgB7N0HeBXFFsDxE6r03mukS1GaiAiCCEjvKCIdC4IoKE0p0pQm3QKKqNgoij4FRKoFQWnSQ5cOSm/SeXsWdt17d+9NQgIJyX++L97d2dnZ2d/ehPe9OXsm5JpRhIIAAggggAACCCCAAAIIIIAAAggggAACCCCAAAIIIIAAAggggAACCMSAQIIYuCaXRAABBBBAAAEEEEAAAQQQQAABBBBAAAEEEEAAAQQQQAABBBBAAAEERHMtELjAFwEBBBBAAAEEEEAAAQQQQAABBBBAAAEEEEAAAQQQQAABBBBAAAEEYkQgJCSEwIUYkeeiCCCAAAIIIIAAAggggAACCCCAAAIIIIAAAggggAACCCCAAAIIIGAKkHGBLwICCCCAAAIIIIAAAggggAACCCCAAAIIIIAAAggggAACCCCAAAIIxIgAS0XECDsXRQABBBBAAAEEEEAAAQQQQAABBBBAAAEEEEAAAQQQQAABBBBAAAFLIJG1ER2f23fsjo5u6AMBBBBAAAEEEEAAAQQQQAABBBBAAAEEEEAAAQQQQAABBBBAAIHbKpA/X57bej0udl0gJCREWCqCbwMCCCCAAAIIIIAAAggggAACCCCAAAIIIIAAAggggAACCCCAAAIIxJhAiLFexLUYuzoXRgABBBBAAAEEEEAAAQQQQAABBBBAAAEEEEAAAQQQQAABBBBAAIF4K3D16lUhcCHePn5uHAEEEEAAAQQQQAABBBBAAAEEEEAAAQQQQAABBBBAAAEEEEAAgZgXYKmImH8GjAABBBBAAAEEEEAAAQQQQAABBBBAAAEEEEAAAQQQQAABBBBAAIF4K0DgQrx99Nw4AggggAACCCCAAAIIIIAAAggggAACCCCAAAIIIIAAAggggAACMSvAUhEx68/VEUAAAQQQQAABBBBAAAEEEEAAAQQQQAABBBBAAAEEEEAAAQQQiPcCZFyI918BABBAAAEEEEAAAQQQQAABBBBAAAEEEEAAAQQQQAABBBBAAAEEEIg5AQIXYs6eKyOAAAIIIIAAAggggAACCCCAAAIIIIAAAggggAACCCCAAAIIIBCvBVgqIl4/fm4eAQQQQAABBBBAAAEEEEAAAQQQQAABBBBAAAEEEEAAAQQQQACBmBcg40LMPwNGgAACCCCAAAIIIIAAAggggAACCCCAAAIIIIAAAggggAACCCCAQLwUuHbtmhC4EC8fPTeNAAIIIIAAAggggAACCCCAAAIIIIAAAggggAACCCCAAAIIIIBAzAuEhIQQuBDzj4ERIIAAAggggAACCCCAAAIIIIAAAggggAACCCCAAAIIIIAAAgggEH8FyLgQf589d44AAggggAACCCCAAAIIIIAAAggggAACCCCAAAIIIIAAAggggECMCly9elVCjPUirsXoKLg4AggggAACCCCAAAIIIIAAAggggAACCCCAAAIIIIAAAggggAACCMRbATIuxNtHz40jgAACCCCAAAIIIIAAAggggAACCCCAAAIIIIAAAggggAACCCAQ8wIELsT8M2AECCCAAAIIIIAAAggggAACCCCAAAIIIIAAAggggAACCCCAAAIIxEsBXSSCwIV4+ei5aQQQQAABBBBAAAEEEEAAAQQQQAABBBBAAAEEEEAAAQQQQAABBGJeICQkhMCFmH8MjAABBBBAAAEEEEAAAQQQQAABBBBAAAEEEEAAAQQQQAABBBBAAIH4K0DGhfj77LlzBBBAAAEEEEAAAQQQQAABBBBAAAEEEEAAAQQQQAABBBBAAAEEYlyAwIUYfwQMAAEEEEAAAQQQQAABBBBAAAEEEEAAAQQQQAABBBBAAAEEEEAAgfgrQOBC/H323DkCCCCAAAIIIIAAAggggAACCCCAAAIIIIAAAggggAACCCCAAAIxLkDgQow/AgaAAAIIIIAAAggggAACCCCAAAIIIIAAAggggAACCCCAAAIIIIBA/BS4du2aELgQP589d40AAggggAACCCCAAAIIIIAAAggggAACCCCAAAIIIIAAAggggECsECBwIVY8BgaBAAIIIIAAAggggAACCCCAAAIIIIAAAggggAACCCCAAAIIIIBA/BMICQkh40L8e+zcMQIIIIAAAggggAACCCCAAAIIIIAAAggggAACCCCAAAIIIIAAArFHgIwLsedZMBIEEEAAAQQQQAABBBBAAAEEEEAAAQQQQAABBBBAAAEEEEAAAQTinQCBC/HukXPDCCCAAAIIIIAAAggggAACCCCAAAIIIIAAAggggAACCCCAAAIIxA6Ba9eusVRE7HgUjAIBBBBAAAEEEEAAAQQQQAABBBBAAAEEEEAAAQQQQAABBBBAAIH4JxASEkLgQvx77NwxAggggAACCCCAAAIIIIAAAggggAACCCCAAAIIIIAAAggggAACsUeApSJiz7NgJAgggAACCCCAAAIIIIAAAggggAACCCCAAAIIIIAAAggggAACCMQrAZaKiFePm5tFAAEEEEAAAQQQQAABBBBAAAEEEEAAAQQQQAABBBBAAAEEEEAg9gmQcSH2PRNGhAACCCCAAAIIIIAAAggggAACCCCAAAIIIIAAAggggAACCCCAQLwQCAkJEQIX4sWj5iYRQAABBBBAAAEEEEAAAQQQQAABBBBAAAEEEEAAAQQQQAABBBCInQIELsTO58KoEEAAAQQQQAABBBBAAAEEEEAAAQQQQAABBBBAAAEEEEAAAQQQiPMCV69elZBrRonzd8oNIoAAAggggAACCCCAAAIIIIAAAggggAACCCCAAAIIIIAAAggggECsFCDjQqx8LAwKAQQQQAABBBBAAAEEEEAAAQQQQAABBBBAAAEEEEAAAQQQQACB+CFA4EL8eM7cJQIIIIAAAggggAACCCCAAAIIIIAAAggggAACCCCAAAIIIIAAArFOgKUiYt0jYUAIIIAAAggggAACCCCAAAIIIIAAAggggAACCCCAAAIIIIAAAgjELwEyLsSv583dIoAAAggggAACCCCAAAIIIIAAAggggAACCCCAAAIIIIAAAgggEKsECFyIVY+DwSCAAAIIIIAAAggggAACCCCAAAIIIIAAAggggAACCCCAAAIIIBB/BFgqIv48a+4UAQQQQAABBBBAAAEEEEAAAQQQQAABBBBAAAEEEEAAAQQQQACBWClAxoVY+VgYFAIIIIAAAggggAACCCCAAAIIIIAAAggggAACCCCAAAIIIIAAAnFf4Nq1a0LgQtx/ztwhAggggAACCCCAAAIIIIAAAggggAACCCCAAAIIIIAAAggggAACsVIgJCREEsXKkTEoBBCIdoHdu3fLtGkzZN/+/dKgQX2p/HAlSZAgdsYuXb58WX74YZ58P3uOFCtaVJo0aSRZs2aNdhM6RAABBBBAAAEEEEAAAQQQQAABBBBAAAEEEEAAAQQQQACBmBcIMdIuXIv5YTACBGK3wKRJH8i27dvsQZa7v5w5mW5XxPKNCxcuSIWHHpajR4/aI508+X15pEplez82bUz99DPp1+91e0jFihWV7/73jb1/J21cuXJFli//XebN+1HWrlsv+43AkfPnz0vmzJklT57cUr3ao/LYY49JunRp76TbYqwIIIAAAggggAACCCCAAAIIIIAAAggggAACCCCAAAIIRIvA1atXybgQLZJ0EucFFixcKCtWrLTvM0FIgjsqcGHpb8t8ghb0Rr766utYG7gwffoM21o3NmzYKGFhYVK4cGGf+ti+c+rUKen2cndZuHCRa6i7du0S/Vmy5CcZ8sZQ+eLzqVK8eHFXOyoQQAABBBBAAAEEEEAAAQQQQAABBBBAAAEEEEAAAQQQiMsCmiU+duaJj8vq3BsCMSBQ8r57XVctVaqkqy62VFR86CGfoaRIkcLITpDHpy6272zbtl3q1mvgGbTgP/azZ89KvfqNZNHiJf6H2EcAAQQQQAABBBBAAAEEEEAAAQQQQAABBBBAAAEEEEAgzgskivN3eAtv8MrVK7JmxxoJ2x8mR08dNX+OnD5if+qlM6bKKBlSZ7A/dbtQjkJSKl8pSZgg4S0cHV0j8J9AunTpZPSokTJu/Nvy999/S8MG9eWJx5v91yCWbbVt21oOHT4ss2Z9I7pMRNeuL0myZMli2SgDD+eff/6R6jVqBmyggRgarOBf2rd/Wr7+aoaULHmf/yH2EUAAAQQQQAABBBBAAAEEEEAAAQQQQAABBBBAAAEEEIiTAteuXZMQ4z/X4uTd3aKb+vfiv/L7lt/lpw0/yW+bf5PT/56+qSulSpZKHizyoDxc7GEpV6icJEty50zK3tQN3+EnNXu8uc9SEc2aNpFhw9684+5Kf931R9Ot3AnlypUrkjDhnRfg8+bQYTJp0gc+xLrMxfBhb0iRe+6RRMY9HTp0SF4fMEjmzfvRp12NGtXlvXff9qljBwEEEEAAAQQQQAABBBBAAAEEEEAAAQQQQAABBBBAAIG4LEDGhQg+3bB9YTJlwRQzaOHi5YsRPCtwMw14mLd6nvmTJFESM3ih7aNtpXDOwoFPiudHLl++LBISYk76xkaKCxcuSJIkSYwhhkR5eJeNCftTJ09K+vTpg/al7U6fOiWaUSEiRccW2fFp8MDVq1clceLEEblEwDY38/xuNmjh33//jfYMDfp8kyZNGvD+nAcW+y35kDt3Lpn19Qy566677GZZs2aVCRPGSfMnWsjKVavs+l9/XWpvR+dGdJmcP3/e5z6ic4z0hQACCCCAAAIIIIAAAggggAACCCCAAAIIIIAAAgggED8FCFwI57nvP7pfJs6dKAvXLTTfVA+n+U0d1kCIXzb+Ir9u+lWqlqgqz9Z8VnJkyHFTfcWlk44ePSpfG0sFbN4cJhs2bJBt27abt6dLBxQqVEjKlC4lTYzMB/r2un/58stp8uGUj+zqHDlyyJQPfd+Atw6uWr1aevd+zdo13vBPJJ9/NtUIBkhr1wXaWLdunUz99DNZtWqN7Nq1y2ym42vSuJE0Nn5SpkzpeWrvV/sY5/w3Wd2tW1d5zHjTfpEx4f3++x/I8uW/m+fpkgJNmjSW7q90E93WooEEn3zyqcz94Qc7C4ROgj9cqaI0atRQ7r+/rNnO+R8NcGjYsLHo5LtVevXqKY9UqWzt2p8aYKDuG9ZvkA0bN8qaNX+ax3TyvVixYlLEyBzQsmULSZMmjX2O10ZUnt+0adNl8odT7G6DPT9ttHXbNtFzfvnlV/t7ovUFCuSXShUryhNPPC758+fTKs/i/zy6vNBZ6tSpLRs3bpK3335H/lixUvR+MmTIIJUM5wceKCd1jeNey1doRosDBw76XKdZs6aek/363X2kahWfwAVdQuL06dOSKlUqnz4iu6MmX3zxpSxd+pttot+hggULSKmSJaV161aSK1fOcLtdsuQnWf777+bv4apVq80lLtShePFiZl9NmzRx2c6c+bVMev99n75HjhgmJUqU8Klz7nz33fcyfoJvponwznGezzYCCCCAAAIIIIAAAggggAACCCCAAAIIIIAAAggggMCdK8BSEQGe3YmzJ2TK/Ckya/ksuXzFeNP/NpZExsR5wwcaSttqbSVtivAnz2/j0G7bpXSy9cWXupmTxcEuWrLkfTLqrRGSN29en2bjxk2Q0WPG2nU60bpyxXJ737mhE7Nt23VwVsmy336VrFmz2HVeS0WUL/+AdO32it3Gf0ODCT75eIo5ee5/zL+/AQP6y8kTJ2XU6DH+Tc19nfD96qvpZnaFbi93Fx1zoKIBGpUrP+xz+NKlS1Kw0D0+dW+NHG4GOjgrd+/ZI126dBUNyAhW1HP0qJFSseJDns1u1/PT+xo0aIgZPOI5EEdlmzat5LVXe0uiRO54La/noUEJPXr0cvTgu6lBH++9906UM1EMGz7C6GeST+c7tm+56eU8ImOiwQt9+rzqGfyjARSvDxgoGoQQXtE+2hh9WRkyNOCjTt36Pqd1aN9OXnutt0+dc6dFi1by27JlzirZtHGdZ3CITyN2EEAAAQQQQAABBBBAAAEEEEAAAQQQQAABBBBAAAEE7niBO2Oh+9vMrJkPmg1tJjOWzrjtQQt6qxooodfWMehY4luZMfMreapl63CDFtRFswHUqdtAThiT/rezrPnzz6BBCzqWQ4cOScNGTYy37w+EOzRdWiBQ0IKebGZ2MLIs9OnbP2jQgrbVIIy1a4MHHmg7/xIWFmYEPFQNN2hBz9PsA61at5Vly9zBILfr+WlmiDZt2kcoaEHH/NFHn0j7Ds8Yv19XdDdo+fnnX4IGLejJmh3j5Vd6mBkwgnYW5KB+b+fMmevTokzp0jcdtBBZk48//kT6vNbXXArEOQhdVqJuvYYRClrQ8wYPfsPITPGu3UXRove4AnZmffNtQKsjR464ghZatGhO0IItygYCCCCAAAIIIIAAAggggAACCCCAAAIIIIAAAgggELcFCFzwe75TF0+VXh/1kjPnz/gd8d7VjAg1S9eU7o26y9DWQ2VS50kys9dMWThkofmj21qnx7SNto1oFgUdg47l08Wfel88DtbqhOmAAYNcd1a2bBnp1vUl6fjcs64JUX0z3LmsgOvkW1BhLVthda2ZH7yKjq2vEWwQXnFmUChsLMWg2Rr8y8BBg30muUNDQ/2b2Pvz5v1ob0d0Y9To/zJUWOfoNZ7u0F66d3/ZXB7Bqrc+R4x8y9o0P2/n89MsBf5v6FuDebB8eWvT51MDEj54f7JPndfOwoWLfKp1mQyvossbbDSW04hs0e+Fjr1+g4ayZ89en9O7dOnssx+ZnWAmVas+4rlUw7TpM+Trr7/xucyXX063lz6xDmiWjWbG0iyaNaHmYzWsavtTM5wcP37c3m/+xBP2tm5osIsG/HiVBQsWuqobNmzgqqMCAQQQQAABBBBAAAEEEEAAAQQQQAABBBBAAAEEEEAg7gnoUuzunOlx7z4jdEcXL1+UN2e8KfNWzwu3fa6MuaTqfVWlQuEKUiR3EUkQEjj+I1mGZJI9Q3a7z4blG8rVa1dl857NsjRsqSz8c6HsPeI7cWk3Nja07Ttz3pEdh3ZI76a9JUmiJM7DcW57585dopO6zjLg9X7SqlVLu6pHj1dEl0uYNeu/ydaZRpaGF198wTPlvX3iLdgYOPB1adyooSRPnlzOnfvXDCzo3qOnz5X0zfwNGzZKsWJFfer9d/S4LvOQMWNG0V/OTz6ZaqTqdwdxaDDB5599YgY3nDt3Tn74YZ755r+zvxUrVjp3w93W682fv8CnnU5OT5gwzn77//mOz8n0GTOlZ8/edjvNeLFlyxYpVKiQWXe7nt/hw3/LW6NG2+OwNsaPGyPVqj0qSZMmlfPnz8sPRgBH164vW4fNT12aoUmTRqazzwGPnY+mTJYKD1Uwv1d6zW7G0iD+wRIbNmzyDAjw706XXBg/YYJcvHjJzMbhf1z3X3mlW8DlN7zaO+sCmYwbO1qqV69mmmj7X3751cyW4Tz3408+MU2sumXLfTNpaCDND3O/lzRp0lxvYiz7sHXrVqnxWG3rFPPzR+M79HizpuZ27dq1RINtnOWHufNEM0r4l+++m+1TpYEipUqW9KljBwEEEEAAAQQQQAABBBBAAAEEEEAAAQQQQAABBBBAIO4KELhgPNtjp49Jjyk9ZNPeTUGfdMbUGaVD9Q5Su2xtSZggYdC2wQ5qoEPRPEXNnw7VOsj3K76XD378QI6cOhLwNA2o2PvPXhnedrikT5U+YLs7/YCmjPcvmTJn9q+S1/v3lSKFCxnZFwrI9QwFWVxtbnWFprJv+VQL+zLJkyczJ391Qvf9D3zf6p+/YEG4gQtW0IJ2GBISIq1bt5Iff1zgmih/790JdkYGDZhoZAROrFu/QTTtv1VWrlolly5dksSJE1tVQT81AMK/ZM6SxQ5asI7pG/cXLlyQDOnTm+558uSWhAn/+124Xc9v3jx3gFGn5ztKnTr/TaTfdddd0qB+PTOwQjMROMu8efNFn1+w8umnH0uFBx+0m2TJklnGjh0lZe8vb9fpxtq1a+XJJ32zC/g0uLFz7NgxV3YFq13lyg9L15e6RCgAwjrH/9PLRINN6tat49O0YsWH5I0hg+RVY4kIq+za9ZccPHhQsmXLZlZpEISzJEuWTFKnTu2skoIFCxrZKyYaWRZOSJEihSV//nx2cIQ2zJw5k2iWB2f2im++/Z/07t3T5zvzzz//uL7jjz/ezPwd8LkgOwgggAACCCCAAAIIIIAAAggggAACCCCAAAIIIIAAAnFSQOdGA6cKiJO37L4pzbTQfUr3oEELKe9KKR1rdZQZvWZIvXL1ohS04D+CBAkSmH1q33oNvVagooEVGmChY46rJVeuXK5bGzp0mJldQZchsIpOoj79dAfRCd+sWW9/0IKOo3cv38wK1ti6dXtJUqRIYe2an/qWe7CiwReaacG/lC5TyqdK+9VgDf9yb4ni/lVy5oxv5gpXA0eF9us/Zg2E0Al//2AEDdaoVaum3H13qM8EtHZ3u57fXCPLhLPo2AMtsfBilxdc9/bj/PnO013b2p/XchP6jDSjg7No0EhUiy4VMnbseJ9J/sj26WWiWUi8Sv369aVz507yztvj5acli2T9ujV20IK212frLLt27ZK+/fqbWRac9RqYoNkriha9xydowWrTpElja9P81OUiVq1a7VPnDGywDtSrW9fa5BMBBBBAAAEEEEAAAQQQQAABBBBAAAEEEEAAAQQQQCAeCMT7wAVdHmLz3s0BH3VollD5qOtH0rJKS0maOGnAdlE9oH3rNfRaes1ARYMXdMxxteQ23uDXNPHOsmfPXnNpiHuKlpCWrdrI6DFjzQne06dPO5vd1m1drsF/ot8agL7pX8QIRHCWgwcPOXdd2zrx61W0L2cJDc3r+SZ6ypSBA16c5wfbrlmzhuuwLqugGQbqN2gsgwe/IfrGvL6ZH6jcruf311+7fYZQunQpSZLEexkVNby3RAmf9n/99ZfPvv9OufvLejpruzy5c/s01wwUESmhoXnNDATXg22yuk7RJUU6PP2sfPPNt65jEanwNylZ8r6AJpod5GUjwKZmzcfM3zeNYnOWisbyGP7ls8++MJeGeKRqdXO5kM8//1LCwsL8m/nsVzECi/x/T+bM/cGnjf8yERowkjNnDp827CCAAAIIIIAAAggggAACCCCAAAIIIIAAAggggAACCMRtgXgduDB18VTRJRgClQpFKsj7L7wv2dNnD9Qk2uv1WnpNvXagomPWscfFkshYdmD4sKEBb+3XX5fKuHETzAneEveWks4vvCjhTUIH7CwKBzQ1frBSoKBvVoRDhw7JtWvXAp6S0Mi84VWCnePVPip1vXr2kAwZMnh2sW7dOpn84RTp2vVlebBCJWn2eHPxyiJxO57flStXRD2dpUD+/M5d13bBQr7PQ4Nhgtl6Zb+wOk2U+OZW2NFMDbq0gi4Jsuy3X+TPNSulZ4/uVrf2Z9dur8iff6619yOy4WVSyFjK4WZLgwb1pVKlip6na/aF6TNmymt9+krNWnVFAxmmfvqZ6Bj8S9KkSY2MDL5ZF2bO/Eou32jrtUxE06a+7f37ZB8BBBBAAAEEEEAAAQQQQAABBBBAAAEEEEAAAQQQQCBuCei8nfdsady6T8+7+XXTrzJx7kTPY1rZonILGdZ2mCRPmjxgm1t1QK+p19YxBCo6dr2HuFjKlbtffpj7vegb4+GV2bPnSJVHqnlOood3blSOJ04UfPLa6+3/YBPlURlLdJ2rQQvzf5wrOmkdXlmxYqW0at1Wxo9/29X0Vj+/q1evuq6ZLHnw39NkdyVznePVj6vRLaxIkyaNPPfcMzJu7GjXVRYsWOiqC1bhdS/+2TqCne9/TJewmfzBJOnW9SX/Q659DWTo1+91adO2vR2Q4GzU0O/7dPbsWVm1cpXZxGuZiOrVqzlPZxsBBBBAAAEEEEAAAQQQQAABBBBAAAEEEEAAAQQQQCCOC2h28HgZuHDi7AkZ+MVAuXrNPQGqz1wDBjrV7iQJQmKOR6+tYwgUvKBj13vQe4mLpVChQvL1VzNkyeIF0qfPq1KjRnVXynnnfetb6je7dMS///7r7CpC21u2bgvabpvfcQ0K0Mng2F7SpUsno0eNlNWr/pARw4cZb8s3ci3d4byHUaPHeGYHuJXPL3HixK7vwo7t253Dcm1v37HDp06fR0Iju0dsKI89VsN1P3+sWBGpoXmZ+N9zpDo0GicygnNeeKGTbN603swU0aZNKylWrGjAbjQbypQpH7mO33tvCdGlVZxlyU8/mbsLFi5yVsvjzZpK8nCCUHxOYAcBBBBAAAEEEEAAAQQQQAABBBBAAAEEEEAAAQQQQCBOCMT+mdRbwDxl/hQ5c/6MZ8+6REPHWh09j8VEpY4l0LIReg96L3G55MmTR9q3ayvvvfu2bFj/pyxeNF86d+7kmug9evSorFu33qZIkND3q63HL168aB93bqxb/995zvpg22FhYZ5vl+s5mllhrbG0grNkypTJuRvrtzWAQYMWNHjhpyWLjDfkf5dBgwZ4BjEsXrIk4P3c7PML2OGNA6GheW9sXf/YuGmTz77/zpYtW3yqcuTI4bMfnTu6hEaXF7v6/Bw4cCDgJTTowD87ws6duwK2D3QgNDSvz6HNmzf77Dt3NEPDd999L8G+x1Z7HVvVqo9I/3595bv/fSObNq6TSRPflQceKGc1sT9/nDff3nZuNH+imXNX5hntLly4IP4ZFxo1aujTjh0EEEAAAQQQQAABBBBAAAEEEEAAAQQQQAABBBBAAIG4LxAvl4rYf3S/zFo+y/PphmYJlQEtBsRopgX/gWnmBR2Tjs2r6L3oPcWVopOZGzduklmzvpEhQ96Ub7751ufW8ubNKy93e0kGG5Po/mX37j12Vf78+e1ta+P33/+wNu3PS5cuyZIlP9v7kdnwertcz//yy2mi6fCd5f77yzp3Y932lStX5K+//pIf5v0oY8aOkxEj3vIZY/r06eWpFk/Kp1M/8anXnR07dtp10fX87A4DbDz0UAWfI3v27JW5P8zzqbN2vv9+tuhxZ6lUqaJzN1q3NfOHBgU4f742vs+ByvoNG0QDa5wl1Piee5Vz5wJnB/E0mfuDVzey0liqQYMrataqKwUKFJZmjzeXvXv32W0PH/7bXH5l0qQPpFevV+XUqVP2sWTJkkm1ao8a34WPXYEsm42AHq9St24dn2pdXkJ/x50la9asUqZMaWcV2wgggAACCCCAAAIIIIAAAggggAACCCCAAAIIIIAAAvFEIFE8uU/7NifOnWi8KX/Z3rc2Ut6VUka0GyHJkya3qmLNp45Jx9ZmdBtXpgi9F72ngU8NjDXjjcpAOnXu4noL+7777hUNWHCWlClTOnfN7UyZMtp1xYq6U9r36dtPPv7oQ7svDVrQJSb0rfObKW+8MdR867x4sWL26TqJ/+prfe19a6O6MdEbm8vHH0+VQYOH+AyxQIH80qBBfZ+6ZMnu8tnXnaxZsth10fX87A4DbNSuVUvee2+Sz9Hu3XtK6VKlJHPm/7JbHDp0WHr1fs2nne7UrvWYqy66Ku65p4irq7feGi2pU6eWlk+1EF2jxyorV62SNm3aW7v2Z5myvhP4W7dulZFGH/PnL5CSJe+Tri+9KBUrPmS31w1Pkx69pJRhkiVLZrvtyZMnXSaa4SFbtqxmGw2kqFfPnflg6NA37D5045rxo/fkLNmzZ3Pu2tsalKDBIj///Itd1/vVPva2bjzZ/Ik7YjkVn0GzgwACCCCAAAIIIIAAAggggAACCCCAAAIIIBBjAhcvXpKwrTvklPFC4aVL7rm/WzmwxIkTSZrUqaRwwXyimZUpCCAQNQGdP4tXgQth+8Jk4bqFnmotH2kp2dNn9zwWGyp1bDrGd+e86xqO3tOT+56UwjkLu47daRXt2rVxBS60btNOGjdqJGXLlpEzZ86IZk6Y/KF7iYzixYvbt5szZw5zOQln5gN9677KI9XMCVRt6JxEtU+M5IZO8Oq4dDJZl6pYvvx3Vw+hoaFSrtz9rvrYVNG4cUNX4EKfvv1lw4aNUr78A5IseTJZuWKVfPX1165hlzHu3yrR9fys/gJ9FitW1HzrXyfyraLPutwDD0qtWjVFj683nodXFoaaj9WQwoVv3e9KXiPIpnbtWjJ79hxraOZn//4DZNy4CUYgQUlJbmQtWLd+g2jmAa/SpnVrn+rhRgYMa1mFNWv+NANuli9fKokSJrTbBTJ5oHwF06SikaXiyJGj8t7ESa6MIE899aQkSnT9nwMNxNHv9IoVK+2+p02fIReMpVYqGcESufPkNpZt2SCz58w1vx92I2OjQoUHnbs+202bNA76O1evfl2f9uwggAACCCCAAAIIIIAAAggggAACCCCAAAIIIBBIQIMWVqxeaywTfilQk1tar4ESR44eN8awTu4vfa/9/7Hf0ovSOQJxXCBeBS5MWTBFdH0M/5IxdUZp9pDvGuz+bW7H/uodq6VIriKSLEkyz8vpGGf8OkOOnDric1zvSe9tWJthPvV34s6D5cubQQA6OWsVDTgYPWastev5+dxzz0jWrP+9+a+NXujcSYYOG+5q7x+wUKJECSPoYJ2rXbCKDBky2On9dYLXOcnrf97wYW/E+n+w0qRJI50NrwkT3raHr4EAGiDiFSRiNVI7ZzaJ6Hx+1jUCfQ4ZPFB++22ZaxJ+jjGhrj9eRZ/bYOO8W11e799X/v77b9f3QpeEcAZbeI1j3NjRPhkS9DlYQQtWe+1n7dq1ZoYJq04/b8ZEgzjatvENlNDfnVat2zq7Npdt8V+6xdkgRYoU8uwzzzirfLarVn3EZ9+5o4ESeXLndlaxjQACCCCAAAIIIIAAAggggAACCCCAAAIIIIBAQIHtO/+KsaAF56AuXLgo23fuNjMvOOvZRgCByAlcvXpVEkTulDu39b8X/5Xft7jfhtc76lC9gyRNnDRGb+6nDT/JS++/JC9Pfll0rF5Fx6hj9Sp6b4HO82ofm+vGjxsjDxlvh0e0DBo0QHp0f8XV/Nlnn5ZnnvH2shrrW+ojR0Q+4KNp08bS3EhtH14Za0xClynzX0aC8NrH5PHnOz4rmjEhoqVFi+by5RefutL7R9fzC28cmTJlktnffyua0SIiRZe++PqrGZI+ffqINI9Sm4wZM8rnn02Vpzu4l4EI1LFO/L/zzgSpW7eOTxOt14wezqJ1RQoXcVaZ25E1UbtPPv5QNHDFWfT3740hg5xVQbfLlC4t836Y7Qoecp6UzMgyod8Zr9KsaVOvauoQQAABBBBAAAEEEEAAAQQQQAABBBBAAAEEEPAUOH7ilGd9TFQeO34iJi7LNRGIUwIJEiSIP0tF6MT+xcsXXQ8wV8ZcUrtsbVf97azQoIW+n/aVy1cuy587/zSDF95q/5Zn5gUd62dLPpO9R/b6DFHvTe+xcvHKPvV34k6OHDmMydQpMm3adJn0/mTPdPpZs2Y1U+53eaGTFCpUKOBt9urZQ7S/xYuXyJIlP/m069Kls7Rv11b+/fe8T73uJEzoG9OTOJHv+kSJjH2d2C1cuJCZ/l/fgHcWfbtcx6YZCbyKf38Jb6Tp92/r3y7QOkle5ydIEGJ3p+vC+JcEjmUG9JhOLPft85o8VqOGDB8+UlauWuV/irn8hk6it2jxpNGuuuu4VkTH80uY6L8lELTPQPedJ08e+e5/s+SLL6fJ1Kmfimbn8C+5c+eS1q1ayRNPNJPkyZP7Hzb3/Z29PK0T9dk7SyK/sVrHdOmFV1/tZS4T8vnnX8gi4zvoVTSgol7dutKyZQtXAIHV/pVXusnLL/eQQ4cOmc/gNaPf5MbyHV7FaTJ58hTzHP92+vvz0ktdpFHDBp62+n3RwJxKlSrKkCFvys+//OrKbKF96neherVq0uHp9j7LVvhfz9pvaFzvs8++sHbtz8ce8/4u2Q3YQAABBBBAAAEEEEAAAQQQQAABBBBAAAEEEEDAIXDRWN7YWapUKu/cveXbi39eZl9Dsy5QEEAg6gIhxjID7rUTot5vrOthwBcDZN7qea5xtXm0jTxTI3B6c9cJ0VzhDFpwdn3f3fdJoOCFSfMmyUcLPnI2N7drlKoh/Zv3d9Xf6RWXLl0yJ6QPHT4kd911lxTIn19Sp04d6du6fPmy7N+/3+gjmWTOnEm8JvMj3emNEw4dOiz79u2VpEmTSs6cuSRdurQ321WsOU9Tshw8eNC01yinvHnz+ixhENGBRtfzC+96V65cMSfpDx0+LOfOnpPkKZJLNmOCXifpdfwxXc6dO2d4HpJjx45JiBFUktLImqCZGfQnIkXvb+fOXaKBGPo9i0ixTA4aAQ//nvvX/L3JlSvnTWWd0HHv3LVLLly4IDmNYKCcOXMaAT6+ASYRGRNtEEAAAQQQQAABBBBAAAEEEEAAAQQQcAr8888/8uWX02WtsZyv/v9fugRr5syZJTRvHilqZMxt/sTjki1bNucp0bKt/z/XokWLZbax7OzWrVvlwIGD5v//rC9mFS16j9SpU0vK3X+/5/8HptMqr/XpJ5cu3fxkZcWKFY0Xmnyzr+qN6f8vu2z5clmwYKGsXv2n+f9p64tz+v8LZs6UWR6sUF6qPfqoaDbhiJZ///3XXI72+9lzjHvdZr8sqJlU7zHuVfvSsUT0/3e0rhtTz866Pp/xW8AZOKASMRm4EBPXj99Pn7uPiwL671+8CFy4cvWK1Hq9lpz+97TrOb7f+X0pmifi/8C7OohCRaCgBatLzZ7wRqs3rF37c+PujfL0hKftfWsjVbJUMuf1OZIwAZOJlgmfCCCAAAIIIIAAAggggAACCCCAAAIIIIAAArFPQF80Gzp0uEz+cEq4g9PsoH37vGpmjQ23cQQa6ItoTz/zrGzYsDFo62rVHpUxo99yZXLVyZV8+QsFPTe8g61atZQBr/fzaXby5Enp3qOXzJ+/wKfea0eXSe7+ysuimV+DlZ9++lk6de7imVHVeZ4uK/vWyOGuZWudbaztmHx21hj4RIDABb4DCMQ9gZh/Dfk2mK7ZscYzaCFtirRSJLd7nfjbMCQJL2hBx9a+WnvPoeiY9bh/0cAMvVcKAggggAACCCCAAAIIIIAAAggggAACCCCAAAKxVeD8+fPyXMdOEQpa0Hv44osvpXWbdnLmzJko39I6I7NDnbr1ww1a0AtpAEHjJo8bmV4PR/m64XWweXOY1KvfMEJBC9rXpEkfyJMtWsrhw38H7HrKlI+lTdv24QYtaAe7jGyrjRo3lbdGjQnYnx6IyWcXdGAcRAABBBC44wXiReBC2P4wzwdVvnB5SRBy+wkiErQw/tnxki9bPs9x65h17F4l0L16taUOAQQQQAABBBBAAAEEEEAAAQQQQAABBBBAAIHbLfDqa33NpQsic90VK1aamQMic45/2/UbNkj9Bo1Fl16IaAkLCzMDHU6cOBnRUyLd7vjx41Krdl1z2d7InKwmLVu1Fl0y1r8sXfqbDBw02L863P0JE96WmTO/Dtgupp5dwAFxAAEEEEAgTghoNqPgOYTixG2KHD3l/T9CiuUpdtvvMKpBC9aAdexzV821du3PQPdqN2ADAQQQQAABBBBAAAEEEEAAAQQQQAABBBBAAIEYEli1erXMmvWN59XbtWsjBQsUkL9275b33pvkavPzz7/IokWL5ZFHqriORaRi/Pi3PZsVLlxYypYpLdu2b5fly393tdFAh4mTJknPHt3NYyEhIfLEE4/L5cuXXG29KrwCARI7lnj45JNPvU6TGjWqS6tWT0mOHDlkx/YdMnrMWFemiG3btsv8BQvlMaOtVa5duyZ9+71u7fp8ap+PVq0qqVKllGXGvX788Sc+x3Wne4+eUq1aVUmTJo3PsZh8dj4DYQcBBBBAIM4JJEiQIH4HLmRIlSHCD/XylcuSKGHU4jyiK2hBBx1o7AQuRPiR0hABBBBAAAEEEEAAAQQQQAABBBBAAAEEEEDgNgsMfXO45xXnzP5OihQpbB974vFmUrtOfdcyBwMGDpIqVSqLBg9EpmjmBF36wb9oMMIzz3QQnTDRcvz4CWnVuo0rQGDq1M+k+ysvm+302m++EbFsBpoVwStwoX6DevZQVq9xLwGtAQZvTxgnCRMmNNvlyZ1bypW7Xxo2aiIarOAsa9eu9Qlc+P33P8ylH5xtdPvFF1+Ql17sYlfrNWpUr2YuOWFX3tiYNm2G6eKsj6ln5xwD2wgggAACcVNAg+5u/zoJMWB55PQRz6umT5Xes96/8pvl30i7ce3kxNkT/ocivB+dQQt60UBjD3SvER4oDRFAAAEEEEAAAQQQQAABBBBAAAEEEEAAAQQQuAUChw4dlpWrVrl61iAAZ9CCNsiTJ4+MGDHM1XbPnr2yZcsWV314Fe+8O9HVpEzp0j5BC9ogXbq08saQQa62Z8+elZ07d7nqw6sYNXqMq0m1ao9K8WL/ZYTeu3efq03jRg3toAXrYIoUKaRunTrWrv158MBBe1s3Vq50G5ctW8YnaME6oXz5B+xMEladfs786ivnrsTks/MZCDsIIIAAAnFSQIMCo5ZC4A5hCZSFIH3K8AMXNGhhxNcjRKM8ukzsIuOeHSdpU6SN1J1Hd9CCXjzQ2APda6QGTGMEEEAAAQQQQAABBBBAAAEEEEAAAQQQQAABBKJZ4Ndfl7p61Mn4+vX/yz7gbKAT/BkyZBBdqsFZfl36m+jyDhEtJ0+elO+++97VfMiQgXamBefB4sWLy09LFsmlS75LQeTJm8fZLNxtXXbCa+mJF7u84HNunjy5XRkSrhhrfXsVXQPcv+TMmdOnat8+dyDEww9X8mnj3KlQobxz19zWrA6afUIDObTE1LMzL85/EEAAAQTihUC8zriQLlW6oA/ZGbSgDbcf3G4GL0Qm88KtCFrQsQQaOxkXVIeCAAIIIIAAAggggAACCCCAAAIIIIAAAgggENsEflu2zDWkBx4oJ8mSJXPVa0UiY5mEKlUedh1b9pu7H1cjR8W+ffsde9c3S5QoIQULFjR3Nm7cJJ9//qUMGjxEevV6VcaNm2Asx7BNNFAhX7677R8dT2SKV7YFXZ6haNF7fLopU6a0z77uzJz5lVy+csWn/tSpU/Lt/77zqdOdkiXv86k7feaMz77upEsbeD5Eg0O8yqZNm+zqmHp29gDYQAABBBCI0wIamBcvMi7czFP0D1qw+rCCFyKSeeFWBS1YY+ETAQQQQAABBBBAAAEEEEAAAQQQQAABBBBAAIE7ReDgQd8lDXTcuXL5Zgvwv5dcOXP5V8lej4wCrkaOCq/rakCCLtEwdNhwmTNnrqP1f5s6oT9x4jtSulSp/yojuKUT/StWrHS19s+2oA1atXxK3jWWstDlKKyycOEief75ztK+XVvJkSOHbN++XYYNH+nKzKBBC488UsU6zfzMnDmTz77u6BIdTz75hKteK9at3+BZf+zYMbvey/B2PDt7AGwggAACCMRpgQQJEki8yLiQMVVGzwd5/PRxz3qtPHr6qLk8hFcDK3ghWOaFiAQtaPBDvmz5vC4Rbl2gsQe613A7pAECCCCAAAIIIIAAAggggAACCCCAAAIIIIAAArdQwH/JB71U9uzZg14xW/ZsruPHjgX+//ZdjY2KAwcOuKqTJk0qDRs1CRi0oCfoeFu3bifrN3hP7Ls6dVSMHjXWsXd9s+ZjNaRIEfcSF6lSpZIvvvhUdNkMZ5k/f4E80byFVKxUWdq26yBhYWHOw5I7dy55e8I40XXBnSU0b17nrrk9a9Y3snbtOlf9uXP/yptvDnXVa8VJI8ODVWLq2VnX5xMBBBBAIO4LxIvAhQypvdMcHTvzX7Sg/6NuX6296E+gEix4IaJBC/mz5Q/Ufbj1gcYe6F7D7ZAGCCCAAAIIIIAAAggggAACCCCAAAIIIIAAAgjcQoEDB9wZF3KEE7iQPZs7cEEn0TWldESLZlbwL19+Oc0MTPCv99/XLAjNmz8lW7du9T8UcH/p0t/MDAf+Dbp06exfZe8XL1ZMFi740biWd1YEu+GNjQGv95N5P8yRbB4+1atX829u7rd4qpXMnfuDnDx50lyG4s8/10rjJs1kz569nu3PnvkvA0RMPTvPgVGJAAIIIBDnBK5duxY/looIlIXg2OnAgQv6tNtXvx64MHn+ZM+HbwUvOJeNuB1BCzqYQGMPdK+eN0AlAggggAACCCCAAAIIIIAAAggggAACCCCAAAIxKHDXXXcFvXrSu5J6HtfABU0rHZFywGOJCus8zXLQ5YXOZiaEXX/9Jd9/P9u1xIMGL/Tp21+mT/vCOi3o55gx41zHa9WqKYULu7MtWA3/Mq49aNAQWbR4iVUV9HP4iLdk37790qlTR0mTJo1P26xZs0rLp1rI1E8/86nX+3i+0ws+dcF20qVPF+yw3I5nF3QAHEQAAQQQiDMCmj0oYv+q3+G3HCgLgS4HEV7R4IWIZl64XUELOuZAYw90r+HdJ8cRQAABBBBAAAEEEEAAAQQQQAABBBBAAAEEELiVAhkypHd1f+jQYVeds+Lvw387d81tDTZIlCiRqz5QReIAbXWCX7McPPNMB6lY8SFp1fIp+fzzT6V27VqurlasWCm7d+921ftX/PLLr97ZFl7o5N/U3v/773+k+ZMtIxy0oCdqEML7H0yWp595Ti5cuGD3ZW30699X6tatY+0G/VTPYsWKuto4s2HE1LNzDYoKBBBAAIE4KxCvAxc27I7YulQRCV54evzT0vfTvkZ6pcueX5a0KdKKZmaIyvIQzo4DjZ3ABacS2wgggAACCCCAAAIIIIAAAggggAACCCCAAAKxRSBDBveyzvv37w86PK/jXpPowTpJkzat5+Hhw96ULFky+xxLlDChjB41UnQy379sDtviX+Wzr2muR48Z61OnOxoIUahQIVe9Vly6dEnad3haDh065Do+YvgwWb3qD9m1c5ss/fUn6frSi642GlDRs2dvV73ex6i3Rki1ao+6jjkrNHjj448/dFbZ285lKGLq2dmDYQMBBBBAIM4LxIvAhcI5vNMvLQtbJlevRWwdrPCCF/Yf3X/bghZ0zDp2rxLoXr3aUocAAggggAACCCCAAAIIIIAAAggggAACCCCAwO0SyJgxo+tSXoEJzkb79h9w7prbmTP5Bhu4GvhVpEmT2q/m+m75B8t71idOnFgefriS69hhj+ACZ6OffvpZ1qz501llbnfp0tlVZ1WsW79eNmzYaO3anzOmfyFNmjSSdOmuL9eQPXt20X4GDOhvt7E2vv3fd3LixElr1/7UrBTvvDNBJr73jjxSpbJokIIWDUKoXPlhed3IyrBk8QIpXaqU5xiyZbveXs+JqWen16YggAACCMQPgXgRuFAyX0lJlSyV64meOHtCNu/Z7KoPVBFe8ILXedGdaUGvoWPWsfsXvUe9VwoCCCCAAAIIIIAAAggggAACCCCAAAIIIIAAArFN4N57S7iGtG598MzImzZucp1z3333uuqCVRTIn991WDMqJDDW0w5UUqVM6Tp09eo1V51VcT3bwjhr1/6sX6+uFCxQwN7331jxx0r/KgkNDZUyZcq46rWicaOGnvWrVq3yrNfMC9WrV5PJk9+XZb/9Ijt3bJWVK5bLlA8/kNatW0nSpEll69atrnM1uCFZsmR2fUw9O3sAbCCAAAIIxHmBeBG4kDBBQnmwyIOeD3Np2FLP+kCVkQleuBVBCzquQGPWe9R7pSCAAAIIIIAAAggggAACCCCAAAIIIIAAAgggENsEKj5UwTWkXbt2yarVq131WrFt23ZZ6TEhX6lSRc/2gSpLlXK/8Hf27Fmj/22BTpFly5e7jmXPns1VZ1UsXvKTrFu3ztq1Pzt1et7e9tpYv8EduJHtRmYEr/YaTOC1jMVGR4DHvHk/yiNVq/v8dHj6Wbly5YqE+AVraMDFgAGDXZfyX2Iipp6da2BUIIAAAgjESQH99yheBC7o03u42MOeD3HhnwvlytUrnscCVUYkeOFWBS3oWHXMXiXQPXq1pQ4BBBBAAAEEEEAAAQQQQAABBBBAAAEEEEAAgdspULRoUc9J9z59+sv58+d9hnLZmGR/rU9fnzprp0yZ0tam/Xns2DH55ptvZfeePXadtZEjRw4pUMCddeGtUWPk8uXLVjP7c+bMr2XPnr32vrWRL18+a9Pn08y2MHqMT53uNGhQ3/O6zoZeQQq/LVsmp06dcjazt9etWy8adOFfMmfOZFdlyZJFNCDE+bNw4SKZOfMru421octM6PX8y9Md2vtU3cpn53MhdhBAAAEE4q1AvAlcKFeonCRJlMT1oPce2SuzV8x21YdXESx44VYFLeiYdKw6Zv+i96b3SEEAAQQQQAABBBBAAAEEEEAAAQQQQAABBBBAIDYKJDSWLXi5W1fX0MLCwuTxJ1rIH3+skH/++UfWrPlTWrZsLStWuJdReOGFTj5LGGhnkyZ9IKXLlJOu3V6RypWryivde7qu0fG5Z1118+cvkBdf6iabN4fJ1atX5fDhv2XKlI+lew/3+WVKl5b8+b0DFxYvXiIbNmx09d85nGwLekKxYkVd52mFehw6dNjnmF5DMyd4laKOfrRPXerBv/Tq/Zr07Nlb5s79wbQdPnykdO36sn8zqVu3jtx9d6hP/a16dj4XYQcBBBBAIN4KaEagECMSMPCiTHGMpudHPeWXjb+47ipj6owyo9cMSZo4qetYeBWTf5wsk+dPtpvdyqCFC5cuSNOhTeXIqSP29ayNikUryrA2w6xdPhFAAAEEEEAAAQQQQAABBBBAAAEEEEAAAQQQiHUCly5dkhqP1TazAUR2cDoZ/9OShT5ZG86d+1fuL1felYXgx3lzfbIdXLx4Ueo3aCwaJHEz5aMpk+Xhhyu5TtWAh/oNGrkCFxo2bCCj3hrhau9foR6PVqvhmeFB22oQgmZQ2LnzegYF//N1/5EqlWXy5Pd9Dk2bPkN69XrVpy6iO3NmfydFihR2NY/uZ+e6ABUIREJg8c++mUKqVCofibOj3jSmrx/1O6AHBGKfQLzJuKD0bR9t61q/Ses1EGD6r9N1M9LFmXnhVgYt6MB0jF5BCxqBovdGQQABBBBAAAEEEEAAAQQQQAABBBBAAAEEEEAgNgskTpxYxo8b4xN8ENHxvj1hnOu8TZs3uYIWtL/f//jDp9skSZLIe+9OcJ3v0yjATpcunT2DFrT5okWLXUELWh+RbAvaTj0mjB8bcFyaZUGXedBlH7xK7ty5ZMiQQa5DTZs0luc7PueqD69Cgy28ghb0vOh+duGNheMIIIAAAvFLIF4FLhTOWViqlqjq+YSnLpoqB44d8DwWXqUGL3Sq3UnGPTtO8mdzr5MV3vkROa5j0zF6Fb0nvTcKAggggAACCCCAAAIIIIAAAggggAACCCCAAAKxXaBo0Xtk1tczPZcz8Bp7ihQpzPblyt3vOnzfvfd69lOl8sOutnny5JFFC+dLrVo1XccCVfTt85q82OUFz8OabeGtUWNcxxo3buRaasHVyFFRvHhxmTnjy4DLRjia+mxWNu5xxvRpkjVrVp963UmQIIF07/6yDB36huuYV4Uaz5w5TTRTRLASnc8u2HU4hgACCCAQvwR0kYh4Fbigj/fZms9KooSJXE/6zPkz0v3D7nLuwjnXsYhUtKjc4pYFLeiYdGw6Rv+i96L3REEAAQQQQAABBBBAAAEEEEAAAQQQQAABBBBA4E4RKFAgv/zy82IZMniQaNYAr6JLQ/Tp86os++0Xue++e72aSKJEiaR/vz4+wQvdur4kOXLk8GyfOXMm0cwN7737tpQpXdqzjU7it2nTSnS5iXbt2phBAF4N//hjhefSE507dfRqHrSucOHC8s2sr2Tc2NFSteojAdvq2DS44NOpH8uUDz8QvZ9g5fFmTWXal5+by0kEaqf9/TB3tpQuVSqZKM+TAAAzqElEQVRQE5/66Hp2Pp2ygwACCCAQrwV0hYEQI3rhWnxTGP3NaJmxdIbnbVcoUkGGtR0mCUJiR0zH1WtXpeeUnrJ081LP8Tat0FS6NujqeYxKBBBAAAEEEEAAAQQQQAABBBBAAAEEEEAAAQTuBIFTp07JgQMH5MyZM5IsWXIz8CBt2jQRHvrlK1dkS9gWCQ0NleTJk0X4PM2acPDgQTl0+LA5L6CBAFmMDAaJEiaMcB+3ouH58+flsDGmY8eOy+XLlyVp0iSSLl16yZY9202P7eTJk7Jv3345cfKEiDEzlCFDetEsFMmSRdzL616j+uy8+qQOgfAEFv+8zKdJlUrlffZv9U5MX/9W3x/9IxATAvEycOHE2RPSbGgzzwwG+hA0e4Iu/RAbytuz35bPlnzmOZSUd6WU6b2mS9oUaT2PU4kAAggggAACCCCAAAIIIIAAAggggAACCCCAAAIIIIBAXBOI6cCBmL5+XHue3A8C8XKpCH3sOtHfr3m/gFkVNFBAAwY020FMFb12sKAFzQih90DQQkw9Ia6LAAIIIIAAAggggAACCCCAAAIIIIAAAggggAACCCCAAAIIIBAdAvEy44IFN3XxVHl3zrvWrutTl40Y0GKAJE+a3HXsVlacu3BO+n/WP+DyEHrtjrU6SssqLW/lMOgbAQQQQAABBBBAAAEEEEAAAQQQQAABBBBAAAEEEEAAgVgn8NvyVXLh4sVYMS5dyuXBcqVjxVgYBAJ3skCCO3nwUR27TvzXKFUjYDdLNy+Vp8c/LQeOHQjYJroP6LX0mnrtQEXHTNBCIB3qEUAAAQQQQAABBBBAAAEEEEAAAQQQQAABBBBAAAEE4rJAunRpYs3tpU/Hku6x5mEwkDtaIF5nXNAnd/HyRen4TkfZvHdzwAeZ8q6U0vKRltLsoWaSNHHSgO2icuDCpQsy/dfpMnXRVDlz/kzAru7JdY+88/w7kiRRkoBtOIAAAggggAACCCCAAAIIIIAAAggggAACCCCAAAIIIIBAXBW4dOmS/LFyrVw0PmOyaLaF+0vfK4kSJYrJYXBtBO54gatXr0q8D1zQp3js9DHpMaWHbNq7KehDzZg6o3So3kFql60tCRMkDNo2ogf1IXy/4nv54McP5MipI0FP06CF4W2HS/pU6YO24yACCERd4MjRo3L82HEpUCB/1Du7zT3o2I8dOyYFCxS4zVfmcggggAACCCCAAAIIIIAAAggggAACCCCAAAII3B4BXSpiy9YdcvLUGbl8+fLtueiNqyROnEjSpE4thQveLYkTJ76t1+ZiCMRVAQIXbjxZzbzw5ow3Zd7qeeE+61wZc0nV+6pKhcIVpEjuIpIgJHIrbly9dlU279ksS8OWysI/F8reI3vDvaYuD9G7ae94l2nh2PHj8v3sObJq1Wr566/d5npF+e6+W+6+O1Tq1K4phQoWDNfuTm+g/9i+1re/XLt2TVq3ailF7ylyp99SpMff+7W+cuXKlUidV7dOban4UIVInWM13r5jh7Tr8Ky5+0yH9vJUi+bWoVj/uXPnLmnT/mlznB3atZVWLVuEO+Yvp02X1Wv+NNu1b9cm3N+rRYuXyA/zfjTb169XVyo8WD7ca9xsgzeHjZDjxt+BqDzPm7327Trv9OnTMnHSB/L3P/+Yl3y06iNSvdqjrsvr78DnX06T9es3mMfuDg2V5569/qxdjQNUrFq9RqZNn2FG/74xeGCAVlR7CcxfsFD0J1vWrNL1pS5eTahDAAEEEEAAAQQQQAABBBBAAAEEEEAAAQQQQACBmxQgb8kNOF16oX/z/nJ31rtl4tyJosEFgYoGGny04CPzJ22KtFK+cHkplqeYZEiVwcyGkD5lekmXKp15+vHTx+XYmWNmVoejp4/Kht0bZFnYMjlx9kSg7n3qNSjiuZrPyVNVnvKpjw87s+fMlWEj3nLd6voNG0R/vv3fd1L1kSrS/eWukjx5cle7uFKhWTmWLf/dvJ06tWtFy22dMiZKNSBES+2aj0maNLFnLSivG1z62zKv6qB1pUuXCno82MH9+w/Yh7dt325v3wkb+w9Efuz3ly0r77w3yby9Y0aWiYnvTpCECb2zypw4cVKGjxwl586dk3Rp08p99917S1mWG9/94ydOSFSe5y0dYBQ737Bxo/QfMFj+uRG0oN0VKVzY1es/R47I4CFvypo/19rHzp49Z29HdEP7Wf77HxFtTjuHwL79+027vHnyOGrZRAABBBBAAAEEEEAAAQQQQAABBBBAAAEEEEAAgagK6HwogQt+ii2rtJTQLKEy8IuBcub8Gb+j7l0NQJi7aq754z4atZqUd6WUfs37yUP3PBS1ju7As6d+9rm8/8GH9sizZ8smDz30oOTMkVP27d9nTLrPNSdOFy5aLGfPnpU3hwwKONFqd8KGLaDLCLw38X1zv9z9ZWN94ELHZ58R/YPlLKvWrJGVK1eZVU93aOfKfFKieDFn80htP1j+ASO7xVPmcgvNH388UufGdOMHHignbYzMHEePHZXHmzWN0HA0g0nLFk+K/t5t3bZN/vf9bGlYv57nuRPf/8D83dODrxhBQynicNCQJ0A0Ver3+Qsj04VmWgivaKDB6wMH2+7htec4AggggAACCCCAAAIIIIAAAggggAACCCCAAAIIIHAnCSRIkIDABa8HpoEC03tNlynzp8is5bPk8pXLXs1uWV2ihImk4QMNpW21tqIZHeJb2RwW5hO08Pb4MVK8mO8kdNs2rWXkW6NFAxd0Uu+zz7+MUEr8+GYZV+63+RPNXLeif8CswIUWTzY3AhdCXG1utkLXo2rfts3Nnh6j5yVOlEjatW0d6TG0NJaU+OHH+eab/zqZXumhhyRDhvQ+/WimE82EokWXh7jZpTh8Oo2nOxs2brKDFvQN/sEDX5dnOnZyBSdogEOPXq+aSppZpl+fV2XBwkXmTzyl47YRQAABBBBAAAEEEEAAAQQQQAABBBBAAAEEEEAgDgqQcSHAQ9WAga4Nukqzis3MpSMWrlso165dC9A6eqpDjInXqiWqyrM1n5UcGXJET6d3YC/jxr9tj/rNIQNdQQt6UN/yfq13Tzl06JBs3LRZvv3ue3nqqSc9J68vXbokK1etln379sn5CxckS+bMct+990rmzJns6zg3du36S3bu2iWpU6eSsmXKyJ49e43zV8nBg4ckT57c8uijVeWupEnNU44dPy5r1vwp27fvkLTp0kqxokWlSJHCrnFcNb47S5b8ZH6HSpcqJanTpJZtxpvtW7dulxMnT4hmlLi/bBlJlSqVcyiR2v5r927ZZFj8888RyZgpo+hk6D3GWPR7ZRW9/6VLf5PtO3ZYVfLj/AVSsEABSZYsmWimAf+iafpXGX6HDh2WFCmSS+7cuaVo0XtsA//2sXX/gnHv+hz3GctAXLlyRfIY96HPKn2668u6OMetk8WLjeelpUSJ4pIpY0bnYXNbl0pYu2698b04KGfOnJUMGTNI6VIlJWuWLK62zorTxjIdO3bukh07dppBUXeH5pUC+QtI2rS+y3Us+elnc5xZs2aVovcUcXZhb+sYrGVEChUsKDlz5jCWufnvuxZo7HYHjg39TuuyKzpJrv2+/e575iS51eTy5csyYuRoa1de7NLZ3rY21G3d+g2yd+8+M+ODLkGiyx4ULlTQauL5qX9b1xvn7di50/h9OGl+d9UyderUnu2dlRG9prr/sWKleao+d/2d8yr7jeUAwrZsNQ9pNpKUKVN6NYu2uvr16kqn558L9/dJg7f6933N/LulgQvhFV3S448VK+TQ4cOSIX1683e8QIH84Z0W7nFd0kL/5h4wvvf63LIZ3091SpEiRdBz9e+w+u/du1cuGtv6fb3v3hKSyAi00e+6lrJlSns+c73Oxk2bzN8ZvS8NqNHzo+N+gg76Jg5G9t8b5yX2GDb6e3D06DHJkSO7FC5cSHJkz27+vd69e4+kN55jScfSLNa/VemMf3tKlSxpBh3pv3V7jX/rHqlSWfLny+fs3lxy5Wb+lkfl2fkMgB0EEEAAAQQQQAABBBBAAAEEEEAAAQQQQAABBAII6HwPgQsBcKxqDSAY+NRAeXLfkzJlwRT5fcvvcvHyRetwtHwmSZREyhUqJ20fbSuFc7rXNo+Wi9whnWhwgE6KaXmqRXPjre4HA45cJ7yaNW1irA8/yJywCTMyNdxTxHeCd+26ddKv/0Bzwsa/I02j36njs/7VsuTnn2XKR5+YARN/G0EAw4aP9GkzfcZXMmXyJHMSbsCgIa43pHUisutLXXyCFy4bE3Wa6l3LsDeHyA/zfrQnxp2dv96vjznh5KwLb/uSMaE8eMibnv3pJJeOxVqT/ejRo6JjdpYvvpxu7mbKlMkVuKDH3p04ydncbvtKt5ekvLEswZ1QdDKvT7/XXc9Kx975+Y7SuFEDn6VGdGLVctI34TNV/G+5Fp1EnfnV1zJ5ysee/dWuVdMMANCMEP5FgyH0++pf9E16DRqo+kgV+9Csb76VNX+uFX0uM6Z97vN9shr99PMv8uawEebuhHFjzMAF53fNf+zWeYE+Hyh3v1Sp/LD5XdLJcb0XDSDQ8vWsb0WDY7SomX+Axu9/rJC333nPbmM2vPEfnYAd/uYbruAMPawBBS/36CVhYVucp4iajBz+pk+d/05krpkwYUL7mep99ez+sn935v4nn34uc3+YZ27Pm/OdZ5voqNRAlQH9+5reQfszAo90KZQnn3jc5zsa7Jw5c3+QoX5/t7R9zcdqmEFHwc4NdEyX5Hl/8hTje/CNZxP9e1Cvbh3PYxoo9fIrPV1/h/Pdfbf0ea2X/VzemTDWDP5ydqKT+K8Y3w8NavEvOlk/ZPCAWLNcyc38e6P3pH9TxowdL7O+/Z//LcoLnToaS9Ycl8+++FLKGIEdzsAF698qDVDat2+/jBw1xj7/7tBQn8CFm/1bHpVnZw+GDQQQQAABBBBAAAEEEEAAAQQQQAABBBBAAAEEwhHQeTX3zFo4J8XXwxpQMKzNMJk7YK680eoNqVGqhqRKdvNvx+u52of2pX1q3/E9aEG/WzoRaRXNdhBeqfxwJVkwb475U9h4s9tZdv31l/Ts3ceeLNM3rHWCxyrTps+Qjz/51Np1fepEmQYtpEubVh6uVNGcSNVGOnn7+ZfTjL5fMyeutU/NlmCVb//3ncyY+ZW16/qc8Pa7dpCBvkWdK2dOu40GN1iBG3ZlOBujRo+1+9PJXk3hr2PWohPfzz3/guhbylr0uE5M62S4VbSt1lV40DfbgmZicAYt6CShTjRq0beu9f4120RsL/pWcrdXethBBppdwjn5N+Gdd2XqZ59H+Da++362jDeeoWYl0KLP/tGqj9hv8OtSCu9OfN/Vn3/QQiUjGOKhCtcDc7QvDZRYt269fZ5OrmtR603G2+ZeZd6PC8xq/W4XL1bUq0mk617o/Lz9XdfvlmZaOHbsmKiTFv0OaKCHs+jkZveeve2gBc0QUaN6NfONcW2nQQk6+ayZLpxF9/W+nUEL6qnfUzV5pUdv+/fXeZ5uR/aa2qdlqs9Is4/4l/Pnz9tBCxqApFlIblXJnStX+EELxsV1CZSWLZ6McNDC6jVrfIIWNGjJytihARmTjeCDmyk6KW4FLejfDP3+6o+6atHjS3/7zdX1ESNYyhm0oOdafy/1b+xrffq7zrEq9Dugf2esoAW9lnWuttF77f/6QPM7ap0TU59R+ffmk6mf+QQt6L8p1r8L+rfmxwULg96WZvyxghb0b7v+u+LMFHKzf8uj8uyCDpiDCCCAAAIIIIAAAggggAACCCCAAAIIIIAAAgj4CehLfmRc8EMJbzdZkmRSuXhl8+fK1SuyZscaCdsfJkdPHTV/jpw+Yn9qXxlTZZQMqTPYn7pdKEchKZWvlCRMkDC8y8W744f/Pmzfc7581yfJ7QqPDV0GIUmSJK4jp4y3uF/q+oo5+amTXePHjLLTip86dcqceJ7343zjrfmPJFeunJ5ZDnTSTDMKDHy9nyQ10ujrJKtO3n719Tfy/gcfmtccO2qklCx5n7l90khx/8KL3czJWw3AeNzIBuFVNI23BgEMHNBPUt9YGmLnzl3y/AsvmuN9uXtPmf7Fp54p0/370wAJnYTVotkjmjRuZE5w6i/30t+Wyat9+pl9jpvwtpn2XycN9S1vDb5o1aa9ed6ot4bbAQlmhfEfDZ4Y/MZQc1eDGnr1eMWexNU3ezs829Hsd9iIt+SjKR+Em+be6lc/1TWB8fa7tdyG81h0b+v34BVjQl2LTu6PHfOWuVSI7p+9MSmqwQIfGtkTKj30kNx9d6geClg0AMSaINQsAoMG9Lf70wn+QTcyX2hwg382D5081KLP4PPPPrHfEj9z5ox0eKajmXr/08+/kOE3gmsqPlTBHseChYtdb6L//fc/5sStNqpbt7bPkiD2iTexkTFDBnnumadl1JixZsr572fPNZZO+e9t9+6vdHVNog8fOcq8kv6ujRj2hs/yLpqhRH9vthpLo+h338r+oSd8YEyi6/IBWtq1bS3NH29m/q5pOiDN+GB9B80Gfv+5mWtqxgHr92XZsuWuwAH9nbFKjeqPWpsR+tTf/1TG0hYaaBBT5Z8jR4zf+euBAPo9Gz9utGiAhBb97vbo/apPkEhEx7li5UpZuGix2bx2zcfkxRdfsH9/Najl+c4vmt9f/Z46s+To36FejuAxzTZTzsjqoUa6dMsHH34kGkAWqGhQi35vtOgyGRqoppkz9Fz9Xo4dP8H8/ujft24vvRioG8/66HxeUfn3Rpd60X+HtOi/N7oEkrVEigZDdOzUxQxeMhsE+I/+TdWAhZHD3pTQ0Lw+rW72b3lUn53PINhBAAEEEEAAAQQQQAABBBBAAAEEEEAAAQQQQCAcAZ3zJeNCOEjBDmvgQZkCZeSpyk/Ji/VeNJeUeKfjOzKt5zRZOHih+aPbWqfLTWgbbVu2QFmCFgLAalpwLToJY03qB2gatHrt2nX2m9p9X+ttBy3oSTop1NWYeLPWuNcAhkBF22nQghadMGvapLHdVN+yt4IWtDJNmjT2m+grV64SnXz1Kjq5q+nRnfenE+Y6MadFJ6E2bPR+w96/v2++vZ7Kvl6d2qJLX+gYtegvt77N36plC3NfJ4G134iWhUZ7Lfp2fe9ePeygBa3LmTOHMWHfTzfNycr16//LEmBWBvmPTtI9VrueNGjUVNZv2BCkZfQc+tPIOKEZC7SMHD7UDjLQ/RTGc9ClOfR5aLEmZs2dAP/R9P7ff/u19Hm1lxnQkiVzZrulLl3SuOH1TARqfejQIfuYbmj2Cy0PGJOTem2r6JvRw43J/vfeGS9vDB5oVZvm+ta/Fl1aRNeZd5bFS5bYu9UfrWpvR8dGPSMQQgMztGgAg/U9a2Tcn/9yLNpmwtjR5hIow4f6Bi3osQb1r9+Dbm/duk0/7GK9Sa4p8Fu1fMr+XdN0QNWrPWr/PtknODZu5pqalcL6vbcCSRxdilWnb7sXvece56Gg2xr4UrdBY3myRStz6YugjW/hQf27Z/2eDzACrqygBb2kfnetvzGRHYJmv/ni049Fl4PoZvw4g47Sp08vtWo9Zna5br3v7/Thv/+2Aw+e6dDenJi3Ajv07+pzz3TwCXJxjksDLfTvhRb926bLqFh/3/Tcxo0a2IEn+v30z+bh7Mt/O7qfV1T+vfl16VJzeBpo0rtnDztoQStD8+Y1/0b5j99rf+iQQa6gBW13s3/Lo/LsvMZHHQIIIIAAAggggAACCCCAAAIIIIAAAggggAAC4QkQuBCeEMdvq4A1Oeuc2L2ZAWzZutU8Td/u1qUT/ItOVj9hvN2tZa3xxr2+XepfdCIpa9asPtU66WlNdBcudH1i19nAuQSDpp33KprBQN9q9y/6tq11vvWWsX8b575OUOob7Fpq1KjmPGRvP1yxor29f/8Bezu8jQ03libQyULnJKV1XpnSpa1N2bPn+hjsiiAb1tvuOvb54aQ/D9JNhA9t2XL9e6AT4xpw4V/0OZQpXcqs1rebI1I08EUn1bNmyWI31++PBkisWr3Grvv7nyP2tm6E5s1j7mu6/lnffCuaacEqOsGsAQEa/OAsj9Wobu6ql5WZwDo+e84P5qbze2Mdi+qnBg5079bVpxv9fejQro1PnbWjWU90HCWKF7OqzM/Tp0/L8t//sOt0MtQq+pa6FVTSpFFDz0wFdWrXspq7Pm/mmhrQU69eHbMvza5gLaGiFceOH7cnyjVwQ9tGtOjyMFoOHDwo/pP3Ee0jOtptuREYogFH991bwtVljuzZ7cl+18FwKnLkyCH16taRxI7vqAYL7N69RzZvDjPP1ufpDNjSJQysUv+Gu7WvnxqIYAU9OOt1e9v2/4Jcnmz+uP9hc7+1EexilT179lqb4X5G9/OKyr8369dvNMer2UA0uMS/PGBkqNDfvWBF/03Knz+fZ5Ob/VselWfnORAqEUAAAQQQQAABBBBAAAEEEEAAAQQQQAABBBAIIqDzC76zZEEacwiB2yGQIUN68zK6lIGuQe81aR6RcWzYcD1jQaDJHO0j742JZJ0U1glHndRzFs2gEKwkTuz+9YnIZKd1Xa++CxUsYE7mWhPuXm2suu07HOn7e74qKVKksA7Zn2fPnrW39+zd65N5wj7gt6HBI2FhW8zaSR9M9ll73a+puavPKqJFg0h+/uVXs3n5Bx6I6Gk33U7TpGvRDBiNmzX37MeaPN+5c5fnca9KXfv9559/MbJGbDSzCFgBJF5trbo2rVtJ9xvLVoweO170p+R995pZOzQ7Rv587onHe4oUNte61/41G4AVhLNj505zuQ/tu3atmtYlovWzQIH85pvuVir/F7t0Fs0OEahooI4GA6xes8aYdN5hBLTstd/+9zpnh+P7myf39eUM/NvpZHmwEtlral/VjOwU70183+z2519+MSfjdeenn3426/Q/VY1sKpEpmkVDA1K0eAU0RaavqLTdHHY9gECfXaDiXKojUJtA9fo78vOvv4r+fdq6bbsdeBKovZVhQyfeU91YFse/baBnH3Yj6Egn5QNN3DuDkbYYS0qEhub1795zP7qf183+e6PfX+vvZ2hoXs+xaqU+T//AJWfjzEaGIq9/e6Lytzwqz845NrYRQAABBBBAAAEEEEAAAQQQQAABBBBAAAEEEIiIgL5U6555jciZtEHgFgk4MxH89dduYxKw4E1dyZpI1gmdQCV9+nT2ob8P/+0KXLAPRvNG2iABERluZGI4dOhwuFd1LkWgwRf6E6ycOnUq2GH72FFjUt5ZrIl9Z51z+7jxpnpEi75VXKpUSdE/PpkyZozoaTfdzvoeaAfh3YcGr0SkfD97jgwfOcrVVCdYcxoT7YGyZZS7v6y8PX6MTP7wY3NyXzvQ5SP0R1PX+69vr8fNDAHG2/9vvztRFi/5Sbq/3NUMHrCWtdBr6hvZt6oUK3qPTLvReZHChQNeRifMu77cw/M7WLxYMc9lQZzPQ7NYeJVggUs3c029hn7v1FqXIdBgA80ioGWusRyHFg0Ocf4dMivD+U/vnt3lCWM5gyxZMtsZWcI55ZYcPnjw+vIk6dP997fN/0Jeb/X7t/Hf18wKI98aLbPnXs/y4TyuQQXJkiUzg7+c9bp9/MQJsypYEFiK5O6AKz3pwIHrv4/6OxWoaNYN/R3Qv33Ov4eB2lv10f28rL8zkf335tSp09aQPAPPrINeQWnWsWCfUflbHpVnF2xMHEMAAQQQQAABBBBAAAEEEEAAAQQQQAABBBBAIJAAgQuBZKiPEYESJYrb19W3/sMLXNDJS+vt6c7Pd7QzCliZCzTLQKBiTYzp8Tx5cgdqFu31wZZs2LNnj3m9YJkirAE5Mze8OWSghPcmddogk5lWn/qZOXNme/fxpk2kQf269r7Xhk5aRqZkcfQfmfNupq31PdDU+YMH9g/aRYIECYMe14Pbd+ywgxZ0wrRt65ZSzJiYz549m/lW+D9Hjkjjpk8E7Ecn8ceMGiFHjx6TDRs3mssK6PIZOvGqE+lvjR4rA/r39Tlf3/7XwAUtmtGgmrFMxezZc839OrVrik7exmTRSW1n0MLjxgT+/WVLS57ceSRjxgxmkMoTT7Z0TWw7f+cOHjrk+Ua+NXnqf383e02rH81Sod6akUMDVq4Z6YesLCM3m8EiNDSv1X2MfRY03szXgJBgf/f2RWLJGOtG/vfd93bQgv4uNWvaWAoa2WF0KR1d1mfR4iXy+sDBVnP7s8CN5Qs0q8Dly5ddS6FoQ2vS3z7pxoaVgUQDgXQpFq+MAmcdAVuhefP6dxF0PzQ0b9DjkTlo/Z0J5u71702mTBntwAtdckMzr3gV57INXscD1UXlb3lUnl2g8VCPAAIIIIAAAggggAACCCDw//buBEqq6kwA8G3Ro447EjfcT9SgOROVxXEySYx7YkjMmM24AIo6uETjgoAoiIoKiEbHqIgL6rhvyZyMu47RuGJm3HJijIJGPeICMeqAS+h5/4NXVldXL3S3TdH13XOaqnrrvd999eoc7v/+S4AAAQIECBAgQKAlgRgLELjQko7lS0Ugnur+QpYlIQbfLp52afZ0/rZp442qp5GPCt5y6+35E+vxfqOydPPbZE+KP/y7R9Lzz/8hxSBnzKVeWYon4+N8vXsvmqKicpvP4/OLf/5z1cN+kg3sFXPUxwBkW6V8oG7Bgo9SW2n12zpesT6yIQwY0D+fXiGm6+iq4xbH787Xrfv1y6+D+fPnd0k7nnnm2VL1r7z80rTeuuuWPseb4on3JgurfIgpUb7x9a/lfwcPG5JGjj4pxbEjq8LYMaPSCiusUNornv6PAc24nh/MpqeIgJViQH/PPXYvbbe03sT0AUW2j3Enn5R22fmbTaryUXYNVctmUR5oE1NLbLnFFk32iw+RdaVa6eg5i2NFxoXiSf1HH308LVz493xVLNvhc8xgUZz/83rdKstQE8Etcd+LuaDiu1xZXvjTnyoXtfn5qd//T77NRhtumKZPu6jZ/fT1N96oeowtt/wsY85zWZ22/co/Ntvu6bLvVPnKrbb67HqI4IZqvwMvZddNUSJ4YGmVjv7eRDBGTBcTffbEk0+mn+7742YBGnPnzm0xuKOt9nbmXt6ZvmurXtYTIECAAAECBAgQIECAAAECBAgQIECAAIFKgfg/8+ajGpVb+UygGwXiohx+0ND8jDEYOvLEMemvf32vag1uu/1X6e577s3XxVPS5Wnli3nmY4D3uutvbLZ/DLRNv+yKfPlXyrI8NNvwc1gQg1TFQGD54a+6+prSAPAXv9h24EIMbm+zdb/8ENHGePq4sjz+xJNpxBFHpSuvujqVTxXRkBpKm374wYel98Wb4rj33HtfmjVrdrG49BoZA4YfOiJdcOFFKQaRa7V86Utb5VWLgfPiWimvawzujj7p5HTGmWfnT+CXr6v2vjCOAe5qaeHDq1p59dW/pIlnTUqReeDFF5sGrsSxvrrjjqXdItCmsuz17T3zRRG8cO+99+fvY6C/eCq9cvvu/Dx/wYLS6aoNLkedq5UVV1wxxdP7UaZNm97k+oxl8YT+RZdMi7fNSkfPWRwovjuD9/p2/vGBBx9MDz70cP5+7+8OTissv+zG822x+L4R973rb7ypaG7pNfqiPPimtKKNNx8svkdsttmmzYIWIjDl/vv/u+oRNs+2L8q48ROa3cvj/nTTzbcUmzR5Lb+2z7/gwrQwi7QsL5988kk69xcX5IviOxTZH5ZW6czvTb9+i6ZgiSljrr+haZ/Fd+CUU0/rVLM6ei/vTN91qsJ2JkCAAAECBAgQIECAAAECBAgQIECAAIG6FRC4ULddX7sNj6fI44noKDHgPGTYwem88/89fyp11uzZ2esj6fiRo0qDVpEx4dBDDm7SoJhyIrIGRJk2/bJ8cCzmQF+QDbLG/uPGfzYYtO+Pf9Rk3+74MOG0M9Jvs8HSGAif89Zb6cabbkkzrromP3VMJ/DlbbZuVzWGDjkw3y6yR4zJBuAj9X1kbojB70iFPzEbkI9ld955d4qB4qL0yVKUF+WOO+/KBxT/9v5n861HIEjMXR/BI8cce3x67PEn0ocfLgpwiECFsaeMS3HOGHRcrlft3kYiKGX77bbLm3r6xLNSpLyP6RyizJ03L02eMjW/ru66+54UTza3VeLp6CjhcuWMq3Pr+BwZQmKQ/Ve//s/42KysueYa6c677s6v5whgiOCFCJoI88iiMCMLWokS1/1KK63UbP9BgwblGQJixQ033Zyv/87igfdmG3fzgn6Lg0PitNMvvyK9996iQKMPPvggheup2bXeUtl/v33zVTHQPj7b7n+ffiYPWAifyeecW5q+oXL/zpyzONYee+yWv42B/GIwf/dsGo5lufTvv30pc8XFl1yaIrjrnXffTdEXkc0jvgMdKQMHLrqXxj3roYd/l0/dEIEEMQXE6LGnpJdefrnqYWMak8jCESX6OO7lZ08+J/3Hdddn95Dx6YQTR1fdLxbG92DY4vvbE0/OTOeed35+z4nB/Gefey5vS3HeIw//txaP0x0rOvN784N//X4qAqziHnLk0T/PA82i/4YMG166Njvajo7eyzvTdx2tq/0IECBAgAABAgQIECBAgAABAgQIECBAoL4Flt1HS+u733p06yPrwqnjT0lnT5qS7rv/gXzA69bbbk/xV1kiaOHccyblg+zl6+Kp6dOyYxz5s5/ng2qRGSD+Kss5k89KW7RjWobK/Trz+Z+yVPQRCBADd5Ul2nPahHFNpgqo3Kb88w6DBqaTRp+YZwyIJ3Yju0K1ctyxRzcJXIh56WOQPIIbfnPHnaX56x+49678ieqYAmFq5nrEUcfk/iNHjal22HRQNs1Becr/qhstxYXxZP0Zp40vXQdTpp6X1yae0C6mN4gFEZDwrT33aLOm8WR1ZDqIoI3IYhF/5ceK/osghsqy+uqr51aXXzEjvx4PPrT5QGscZ799f1K5a/45rufIBnDt9TeU1u+8806l90vzTRj/8Af75EEscT0N3nufJibRrijl3kV9Y1qJGPyOoJ2ZM5/K/4p18RoDupERJKYKKC+dOWdxnHiiv+jLWBbn2nzzzYrVy+RrZJ2ZePqEdMhhI/LvbWQkKLISFA3adZed0733LcraUSxr63WnbFqTq6+5Nu/Dk04e12zzlq772DD6OLK9RD0ieOE3/3VHk/1Hn3hCOvPsyU2WFR+GDjkgvZUFdsU9KoKCqgUGDT3wgLS0g3g683sT349JZ07M7rVH59d5eSBNOMQ0MWtk948w6EjpzL28M33XkbrahwABAgQIECBAgAABAgQIECBAgAABAgTqW6B2H5Wu736p+9bHANwpY8dkg86npniatbLEQNmRh49I1159ZdW5z2P7VVZZJU2edGb65k7fqNw9H2w/84zT0sABA5qti8CJ9pSGhuZfn/J9q80vH8eNQbYxWbBBMaBbnCvaOSWrb++11ioW5a9tHXOP3XdLY8eMShusv36T/eJDZBu4ZsYVVdt54sjjm9m88sqrpWNEGv+pU87OB/VLCxe/ibnuJ501McWg4dIqyy3Xvn6K62DKpLNSOBWlGESPPjgie1p76pRJqaX+KvaJ1+WzAIILfjE1H4wtlhfHiuts6uSzi8XZ8ZrWL6xOHXdysyCb2CGyg1x26cVVr/XigOX1j8Hn1VdbrVjV5LWt66XJxm18KD9WQ0V7yneNJ94PGX5QaVFhEtfQBedNTesvTuO/XJXvzLChQ9KQA/cv7Vu8+eo/75jOyfpt5ZVXzhctV/G97Mw5i3MM/s6i6SLi8+C99ioWL7XXFbMMBVFas471vXr1ipeq262zzhfy672YIiDfMPsnrvW4/nbbdZdiUbtf+/btmy6bdlEpm0P5jsOGHpiOPuqI8kXN3n9/7+9l9+oZ6YTjjs3vOTEYf/Cwofmy/ttv32z7YkFcf8cde0zVgJ5oz2GHDk9x/u4q5d+HynN29PcmjhMZWS6bfkl+H4osJHE/2Pt7g/P7+unZb+DyWXBQtdJafcq378y9vKN9V35+7wkQIECAAAECBAgQIECAAAECBAgQIECAQHsEGhqz0p4NbUNgaQrEPOpvv/1Onl4/BuaqpdNvrX7vZyn533xzTj6Fwlq910rrZIEP7R30ae247V338ccfp133WDRIevqE8enrX/uXvC7xtPn8+fPz+dn7rL12ew9XdbtI3R5P+8+bOy/PrrDhhn3blbkh6vbuu3OzQI9/SJEZoFqJJ6XjyecYeN6g7wYpMjYsiyWm5nhrzltpwUcL0rrrrJN69+5dtRmx3bf2+m6+ruivyg3DLQI9YlqOsF511VUrN2nxc0yn8OacOfmgfN8NNigNRLe4wzKyIqa/eO311/Mn7NfLghWW5JpekH3H33j9jfTp3z9NERhTBCy01fTOnLOtYy/r6+N+EFNFxPc6Apu64p4X00688upfsnvwimnDLKChfAqajnj98Y8vpENHLAp8uPKyS1vMehG/AXEP/yCbsiYyEKy73ropMh3UYunq35sTR5+UZ8eJ4KgIPulM6cp7eXv7rjP1tS8BAgQIECBAgAABAgQIECBAgAABAgQI1IdAhCzU5v/614e/Vi6BQAyOxeBwR8tq2dPp8VdLJZ6ajidhu6rEE+kxGB9/S1JiLvP111+v1V3WWnPNqpkCWt2pBldGwMVmm23aZs1eeOGF0jZ9+lQPKAm3jk4zssYaa6T462klslZsvNFGHWpWZFnpyFQNnTlnhyq6DO0UmWnirytLBOhUZnNo7fizZs9OF/7y4nTYIcOrfl8eefSxfPfIoLDpZpu2eKj4Ddhkk41bXF9LK5bk9yYCn266+Zb02muv59klKoNL5s6bl55+5tm8ef37t5ydor3tX5J7eVf1XXvrZjsCBAgQIECAAAECBAgQIECAAAECBAgQqG8BgQv13f9aT4BAmcCCBQvSHXfdnW6++dbS0s27MLikdFBvCNSBQGTRGHHEz1JMHfLc839IRx15eBo0cEA+zcmzzz2fHnv88XTjTbfkEpGFpnI6kDogSrfcenv65cXT8qa+/c47afhBw9LGG2+U3p07N82c+VS67fZf536xQf/ttu02En3XbdRORIAAAQIECBAgQIAAAQIECBAgQIAAAQKZQDzYZ6oIlwKBbhCoNlVEN5zWKZZQYNas2WnIQcNLew0/eFg6cP/9Sp+9IUBgyQRmPvX7dOzxI1vdadNNNkkTT5/Qqaw6rZ6ghld++umnadSYsemJJ2e2WssjDx+RfvTDfVrdpqtX6ruuFnU8AgQIECBAgAABAgQIECBAgAABAgQIEGhNQOBCazrWEegigU+ywamf/PSA/GijRh6XBg4Y0EVHdpiuFIh07cePHJW23rpfGjRoYNpz99268vCORaAuBd6cMyddceVV6cHfPlTKHhAQMVXODtn3bOjQA1NMFVKvZeHChem++x9I1153Q3rp5ZdLDDF9xpe32ToNHXJA9rpNaXl3vtF33antXAQIECBAgAABAgQIECBAgAABAgQIEKhvAYEL9d3/Wk+AAAECBLpN4G/vv5/+78MP09p9+qQVljdbVSV8BDHMnTcv9erVK6215pqVq5fqZ323VPmdnAABAgQIECBAgAABAgQIECBAgAABAj1aoLGx0VQRPbqHNY4AAQIECBAgQIAAAQIECBAgQIAAAQIECBAgQIAAAQIECNS4wHI1Xj/VI0CAAAECBAgQIECAAAECBAgQIECAAAECBAgQIECAAAECBHqwgMCFHty5mkaAAAECBAgQIECAAAECBAgQIECAAAECBAgQIECAAAECBGpZIKaKELhQyz2kbgQIECBAgAABAgQIECBAgAABAgQIECBAgAABAgQIECBAoIcLCFzo4R2seQQIECBAgAABAgQIECBAgAABAgQIECBAgAABAgQIECBAoFYFGhoaZFyo1c5RLwIECBAgQIAAAQIECBAgQIAAAQIECBAgQIAAAQIECBAgUA8CMi7UQy9rIwECBAgQIECAAAECBAgQIECAAAECBAgQIECAAAECBAgQqEGBhQsXpobGrNRg3VSJAAECBAgQIECAAAECBAgQIECAAAECBAgQIECAAAECBAgQqAMBGRfqoJM1kQABAgQIECBAgAABAgQIECBAgAABAgQIECBAgAABAgQI1KqAwIVa7Rn1IkCAAAECBAgQIECAAAECBAgQIECAAAECBAgQIECAAAECPVzAVBE9vIM1jwABAgQIECBAgAABAgQIECBAgAABAgQIECBAgAABAgQI1LqAjAu13kPqR4AAAQIECBAgQIAAAQIECBAgQIAAAQIECBAgQIAAAQIEerCAwIUe3LmaRoAAAQIECBAgQIAAAQIECBAgQIAAAQIECBAgQIAAAQIEalnAVBG13DvqRoAAAQIECBAgQIAAAQIECBAgQIAAAQIECBAgQIAAAQIE6kBAxoU66GRNJECAAAECBAgQIECAAAECBAgQIECAAAECBAgQIECAAAECtSjQ2NiYBC7UYs+oEwECBAgQIECAAAECBAgQIECAAAECBAgQIECAAAECBAgQqAOBhoYGgQt10M+aSIAAAQIECBAgQIAAAQIECBAgQIAAAQIECBAgQIAAAQIEalZAxoWa7RoVI0CAAAECBAgQIECAAAECBAgQIECAAAECBAgQIECAAAECPVtg4cKFqSGbL6KxZzdT6wgQIECAAAECBAgQIECAAAECBAgQIECAAAECBAgQIECAAIFaFZBxoVZ7Rr0IECBAgAABAgQIECBAgAABAgQIECBAgAABAgQIECBAgEAdCAhcqINO1kQCBAgQIECAAAECBAgQIECAAAECBAgQIECAAAECBAgQIFCLAjFJhMCFWuwZdSJAgAABAgQIECBAgAABAgQIECBAgAABAgQIECBAgAABAnUg0NDQIHChDvpZEwkQIECAAAECBAgQIECAAAECBAgQIECAAAECBAgQIECAQM0KyLhQs12jYgQIECBAgAABAgQIECBAgAABAgQIECBAgAABAgQIECBAoOcLCFzo+X2shQQIECBAgAABAgQIECBAgAABAgQIECBAgAABAgQIECBAoGYFBC7UbNeoGAECBAgQIECAAAECBAgQIECAAAECBAgQIECAAAECBAgQ6PkCAhd6fh9rIQECBAgQIECAAAECBAgQIECAAAECBAgQIECAAAECBAgQqEmBxsbGJHChJrtGpQgQIECAAAECBAgQIECAAAECBAgQIECAAAECBAgQIECAQH0ICFyoj37WSgIECBAgQIAAAQIECBAgQIAAAQIECBAgQIAAAQIECBAgUHMCDQ0NMi7UXK+oEAECBAgQIECAAAECBAgQIECAAAECBAgQIECAAAECBAgQqCMBGRfqqLM1lQABAgQIECBAgAABAgQIECBAgAABAgQIECBAgAABAgQI1JqAwIVa6xH1IUCAAAECBAgQIECAAAECBAgQIECAAAECBAgQIECAAAECdSLQ2Nhoqog66WvNJECAAAECBAgQIECAAAECBAgQIECAAAECBAgQIECAAAECNSfQ0NAgcKHmekWFCBAgQIAAAQIECBAgQIAAAQIECBAgQIAAAQIECBAgQIBAHQmYKqKOOltTCRAgQIAAAQIECBAgQIAAAQIECBAgQIAAAQIECBAgQIBALQnEVBH/D15WYwQ5eRy8AAAAAElFTkSuQmCC)"
      ],
      "metadata": {
        "id": "KLtcuir3l77x"
      }
    },
    {
      "cell_type": "markdown",
      "metadata": {
        "id": "0T4DMssZXHvU"
      },
      "source": [
        "<h2>Part 2: Be creative!</h2><p>"
      ]
    },
    {
      "cell_type": "markdown",
      "metadata": {
        "id": "L9oWN8VrXHvU"
      },
      "source": [
        "<h3>2.1 Open-ended Code:</h3><p>\n",
        "You may follow the steps in part 1 again but making innovative changes like using new training algorithms, etc. Make sure you explain everything clearly in part 2.2. Note that beating \"Zero Hero\" is only a portion of this part. Any creative ideas will receive most points as long as they are reasonable and clearly explained."
      ]
    },
    {
      "cell_type": "markdown",
      "source": [
        "#####1. GridSearchCV"
      ],
      "metadata": {
        "id": "2fqgjEjHlJDl"
      }
    },
    {
      "cell_type": "code",
      "execution_count": null,
      "metadata": {
        "id": "JaMb0bd1XHvU"
      },
      "outputs": [],
      "source": [
        "# Trying GridSearchCV to find the optimal hyperparameters\n",
        "from sklearn.model_selection import GridSearchCV\n",
        "\n",
        "max_depth = np.arange(200, 290, 10)\n",
        "print(max_depth)\n",
        "min_samples_leaf = np.arange(10, 60, 10)\n",
        "print(min_samples_leaf)\n",
        "min_samples_split = np.arange(10, 60, 10)\n",
        "print(min_samples_leaf)\n",
        "\n",
        "# Define the parameter grid\n",
        "param_grid = {'criterion':[\"gini\",\"entropy\"],\n",
        "'max_depth': max_depth,\n",
        "'min_samples_leaf': min_samples_leaf,\n",
        "'min_samples_split': min_samples_split}\n",
        "\n",
        "# Create an instance of the DecisionTreeClassifier\n",
        "clf = DecisionTreeClassifier()\n",
        "\n",
        "# Create an instance of the GridSearchCV\n",
        "grid_search = GridSearchCV(clf, param_grid, cv=5)\n",
        "\n",
        "# Fit the GridSearchCV to the data\n",
        "grid_search.fit(x_train, y_train)\n",
        "\n",
        "# Print the best set of hyperparameters\n",
        "print(\"Best hyperparameters: \", grid_search.best_params_)"
      ]
    },
    {
      "cell_type": "markdown",
      "source": [
        "#####2. Manual Cross Checking"
      ],
      "metadata": {
        "id": "0I5B0q-Blnis"
      }
    },
    {
      "cell_type": "code",
      "source": [
        "#plot what the validation error and train error looks like for different values for max depth\n",
        "for depth in range(5,287):\n",
        "\n",
        "    # create a classifier for each depth\n",
        "    dtree = DecisionTreeClassifier(max_depth=depth)\n",
        "    depth += 10\n",
        "\n",
        "    # fit the data\n",
        "    dtree.fit(x_train,y_train)\n",
        "\n",
        "    # predict the data\n",
        "    train_tree_pred_depth = dtree.predict(x_train)\n",
        "\n",
        "    # compare the training accuracy to the validation accuracy\n",
        "    train_accuracy = accuracy_score(y_train, train_tree_pred_depth)\n",
        "\n",
        "    val_tree_pred= dtree.predict(x_val)\n",
        "\n",
        "    val_accuracy = accuracy_score(y_val, val_tree_pred)\n",
        "\n",
        "    print(train_accuracy,val_accuracy)"
      ],
      "metadata": {
        "id": "A3HCkLwdlq8y"
      },
      "execution_count": null,
      "outputs": []
    },
    {
      "cell_type": "markdown",
      "source": [
        "#####3. SVM with Chi-squared reduction\n",
        "\n"
      ],
      "metadata": {
        "id": "1kgOEtTglS8i"
      }
    },
    {
      "cell_type": "code",
      "source": [
        "## SVM with chi feature selection\n",
        "from sklearn.preprocessing import StandardScaler\n",
        "from sklearn.svm import LinearSVC\n",
        "from sklearn.feature_selection import SelectKBest, chi2\n",
        "\n",
        "# retains the top x features\n",
        "scaler = SelectKBest(chi2, k=7000)\n",
        "x_train_scaled = scaler.fit_transform(x_train, y_train) #this will scale/normalize data\n",
        "\n",
        "#use the same scaler for test and validation\n",
        "x_val_scaled = scaler.transform(x_val)\n",
        "test_text_scaled_chi = scaler.transform(test_text)\n",
        "\n",
        "#running the SVM on scaled data\n",
        "sv_model2 = LinearSVC(C=0.295,penalty='l1',dual=False)\n",
        "sv_model2.fit(x_train_scaled, y_train)\n",
        "\n",
        "# find the training accuracy\n",
        "\n",
        "#training error on SVM - with scaling\n",
        "train_sv_scaled_chi_pred = sv_model2.predict(x_train_scaled)\n",
        "print(\"training accuracy: \" + str(accuracy_score(y_train, train_sv_scaled_chi_pred)))\n",
        "\n",
        "# find the validation accuracy\n",
        "\n",
        "#validation error on SVM- with scaling\n",
        "val_sv_scaled_chi_pred= sv_model2.predict(x_val_scaled)\n",
        "print(\"validation accuracy: \" + str(accuracy_score(y_val, val_sv_scaled_chi_pred)))"
      ],
      "metadata": {
        "id": "jN7a3IGsmPVP"
      },
      "execution_count": null,
      "outputs": []
    },
    {
      "cell_type": "markdown",
      "source": [
        "#####4. SVM with standard scaler"
      ],
      "metadata": {
        "id": "XZSIYvE4mrm1"
      }
    },
    {
      "cell_type": "code",
      "source": [
        "##SVM with standard scaler\n",
        "from sklearn.preprocessing import StandardScaler\n",
        "from sklearn.svm import LinearSVC\n",
        "\n",
        "scaler = StandardScaler()\n",
        "x_train_scaled = scaler.fit_transform(x_train) #this will scale/normalize data\n",
        "\n",
        "#use the same scaler for test and validation\n",
        "x_val_scaled = scaler.transform(x_val)\n",
        "test_text_scaled = scaler.transform(test_text)\n",
        "\n",
        "#running the SVM on scaled data\n",
        "sv_model2 = LinearSVC(C=0.10,penalty='l1',dual=False)\n",
        "sv_model2.fit(x_train_scaled, y_train)\n",
        "\n",
        "#training error on SVM - with scaling\n",
        "train_sv_scaled_pred = sv_model2.predict(x_train_scaled)\n",
        "\n",
        "#validation error on SVM- with scaling\n",
        "val_sv_scaled_pred= sv_model2.predict(x_val_scaled)\n",
        "\n",
        "# calculate training and validation error\n",
        "score = 0\n",
        "for i in range(len(y_train)):\n",
        "    if train_sv_scaled_pred[i] == y_train[i]:\n",
        "        score = score +1\n",
        "    else:\n",
        "        score = score +0\n",
        "train_accuracy = score/len(y_train)\n",
        "print(train_accuracy)\n",
        "\n",
        "#validation error on SVM- with scaling\n",
        "val_sv_scaled_pred= sv_model2.predict(x_val_scaled)\n",
        "\n",
        "val_score = 0\n",
        "for i in range(len(x_val)):\n",
        "    if val_sv_scaled_pred[i] == y_val[i]:\n",
        "        val_score = val_score +1\n",
        "    else:\n",
        "        val_score = val_score +0\n",
        "val_accuracy = val_score/len(y_val)\n",
        "print(val_accuracy)"
      ],
      "metadata": {
        "id": "PPVpEYbUmrFM"
      },
      "execution_count": null,
      "outputs": []
    },
    {
      "cell_type": "markdown",
      "source": [
        "#####5. Random Forest Classifier"
      ],
      "metadata": {
        "id": "kR9aCv33nKJ0"
      }
    },
    {
      "cell_type": "code",
      "source": [
        "#randomforest\n",
        "from sklearn.ensemble import RandomForestClassifier\n",
        "\n",
        "# create and fit the classifier\n",
        "rf_model = RandomForestClassifier(n_estimators=200, random_state=42)\n",
        "rf_model.fit(x_train, y_train)\n",
        "\n",
        "# predict the training data\n",
        "train_rf_pred = rf_model.predict(x_train)\n",
        "\n",
        "# determine the accuracy score for training and validation data\n",
        "score = 0\n",
        "for i in range(len(y_train)):\n",
        "    if train_rf_pred[i] == y_train[i]:\n",
        "        score = score +1\n",
        "    else:\n",
        "        score = score +0\n",
        "train_accuracy = score/len(y_train)\n",
        "print(train_accuracy)\n",
        "\n",
        "val_rf_pred= rf_model.predict(x_val)\n",
        "\n",
        "val_score = 0\n",
        "for i in range(len(x_val)):\n",
        "    if val_rf_pred[i] == y_val[i]:\n",
        "        val_score = val_score +1\n",
        "    else:\n",
        "        val_score = val_score +0\n",
        "val_accuracy = val_score/len(y_val)\n",
        "\n",
        "print(val_accuracy)"
      ],
      "metadata": {
        "id": "dFugoFWrnOBX"
      },
      "execution_count": null,
      "outputs": []
    },
    {
      "cell_type": "markdown",
      "source": [
        "#####6. BERT"
      ],
      "metadata": {
        "id": "6i0y5Cjre4aj"
      }
    },
    {
      "cell_type": "code",
      "source": [
        "import torch\n",
        "from tqdm.notebook import tqdm\n",
        "\n",
        "from transformers import BertTokenizer\n",
        "from torch.utils.data import TensorDataset\n",
        "\n",
        "from transformers import BertForSequenceClassification\n",
        "\n",
        "from sklearn.model_selection import train_test_split\n",
        "\n",
        "train = pd.read_csv(\"/kaggle/input/cs-3780-5780-how-do-you-feel/train.csv\")\n",
        "# train.head()\n",
        "train_text = train[\"text\"]\n",
        "train_label = train[\"label\"]\n",
        "\n",
        "test_df = pd.read_csv(\"/kaggle/input/cs-3780-5780-how-do-you-feel/test.csv\")\n",
        "# print(test_df.head())\n",
        "test_id = test_df[\"id\"]\n",
        "test_text = test_df[\"text\"]\n",
        "\n",
        "# X_train, X_val, y_train, y_val = train_test_split(train.text.values,\n",
        "#                                                   train.label.values,\n",
        "#                                                   test_size=0.15,\n",
        "#                                                   random_state=42,\n",
        "#                                                   stratify=train.label.values)\n",
        "\n",
        "train = train.groupby('label').apply(lambda x: x.sample(350, replace=True)).reset_index(drop=True)\n",
        "train['label'].value_counts()\n",
        "\n",
        "# tokenize input\n",
        "tokenizer = BertTokenizer.from_pretrained('bert-base-uncased',\n",
        "                                          do_lower_case=True)\n",
        "\n",
        "def encode(docs):\n",
        "    '''\n",
        "    This function takes list of texts and returns input_ids and attention_mask of texts\n",
        "    '''\n",
        "    encoded_dict = tokenizer.batch_encode_plus(docs, add_special_tokens=True, max_length=128, padding='max_length',\n",
        "                            return_attention_mask=True, truncation=True, return_tensors='pt')\n",
        "    input_ids = encoded_dict['input_ids']\n",
        "    attention_masks = encoded_dict['attention_mask']\n",
        "    return input_ids, attention_masks\n",
        "\n",
        "train_input_ids, train_att_masks = encode(train['text'].values.tolist())\n",
        "\n",
        "test_input_ids, test_att_masks = encode(test_df['text'].values.tolist())\n",
        "\n",
        "# turn the output into a tensor\n",
        "import torch\n",
        "train_y = torch.LongTensor(train['label'].values.tolist())\n",
        "\n",
        "# load data\n",
        "from torch.utils.data import TensorDataset, DataLoader, RandomSampler, SequentialSampler\n",
        "\n",
        "BATCH_SIZE = 16\n",
        "train_dataset = TensorDataset(train_input_ids, train_att_masks, train_y)\n",
        "train_sampler = RandomSampler(train_dataset)\n",
        "train_dataloader = DataLoader(train_dataset, sampler=train_sampler, batch_size=BATCH_SIZE)\n",
        "\n",
        "# start transformers\n",
        "from transformers import BertForSequenceClassification\n",
        "N_labels = len(train.label.unique())\n",
        "model = BertForSequenceClassification.from_pretrained(PRETRAINED_LM,\n",
        "                                                      num_labels=N_labels,\n",
        "                                                      output_attentions=False,\n",
        "                                                      output_hidden_states=False)\n",
        "\n",
        "device = torch.device(\"cuda\" if torch.cuda.is_available() else \"cpu\")\n",
        "\n",
        "model = model.cuda()\n",
        "\n",
        "from torch.optim import AdamW\n",
        "from transformers import get_linear_schedule_with_warmup\n",
        "\n",
        "EPOCHS = 30\n",
        "LEARNING_RATE = 2e-6\n",
        "\n",
        "optimizer = AdamW(model.parameters(), lr=LEARNING_RATE)\n",
        "scheduler = get_linear_schedule_with_warmup(optimizer,\n",
        "             num_warmup_steps=0,\n",
        "            num_training_steps=len(train_dataloader)*EPOCHS )\n",
        "\n",
        "# train model\n",
        "from torch.nn.utils import clip_grad_norm_\n",
        "from tqdm.notebook import tqdm\n",
        "import numpy as np\n",
        "import math\n",
        "\n",
        "train_loss_per_epoch = []\n",
        "val_loss_per_epoch = []\n",
        "\n",
        "\n",
        "for epoch_num in range(EPOCHS):\n",
        "    print('Epoch: ', epoch_num + 1)\n",
        "    '''\n",
        "    Training\n",
        "    '''\n",
        "    model.train()\n",
        "    train_loss = 0\n",
        "    for step_num, batch_data in enumerate(tqdm(train_dataloader,desc='Training')):\n",
        "        input_ids, att_mask, labels = [data.to(device) for data in batch_data]\n",
        "        output = model(input_ids = input_ids, attention_mask=att_mask, labels= labels)\n",
        "\n",
        "        loss = output.loss\n",
        "        train_loss += loss.item()\n",
        "\n",
        "        model.zero_grad()\n",
        "        loss.backward()\n",
        "        del loss\n",
        "\n",
        "        clip_grad_norm_(parameters=model.parameters(), max_norm=1.0)\n",
        "        optimizer.step()\n",
        "        scheduler.step()\n",
        "\n",
        "    train_loss_per_epoch.append(train_loss / (step_num + 1))"
      ],
      "metadata": {
        "id": "np5dDGc5e6U9"
      },
      "execution_count": null,
      "outputs": []
    },
    {
      "cell_type": "code",
      "source": [
        "# predict test data with BERT\n",
        "\n",
        "model.eval()\n",
        "test_pred = []\n",
        "test_loss= 0\n",
        "with torch.no_grad():\n",
        "    for step_num, batch_data in tqdm(enumerate(test_dataloader)):\n",
        "        input_ids, att_mask, labels = [data.to(device) for data in batch_data]\n",
        "        output = model(input_ids = input_ids, attention_mask=att_mask, labels= labels)\n",
        "\n",
        "        loss = output.loss\n",
        "        test_loss += loss.item()\n",
        "\n",
        "        test_pred.append(np.argmax(output.logits.cpu().detach().numpy(),axis=-1))\n",
        "test_pred = np.concatenate(test_pred)"
      ],
      "metadata": {
        "id": "vIGbU3ElgYto"
      },
      "execution_count": null,
      "outputs": []
    },
    {
      "cell_type": "markdown",
      "source": [
        "#####7. SVM that gave us the highest score"
      ],
      "metadata": {
        "id": "JVX7HaE-gk1E"
      }
    },
    {
      "cell_type": "code",
      "source": [
        "## SVM with chi feature selection\n",
        "from sklearn.preprocessing import StandardScaler\n",
        "from sklearn.svm import LinearSVC\n",
        "from sklearn.feature_selection import SelectKBest, chi2\n",
        "\n",
        "# retains the top x features\n",
        "scaler = SelectKBest(chi2, k=7000)\n",
        "x_train_scaled = scaler.fit_transform(x_train, y_train) #this will scale/normalize data\n",
        "\n",
        "#use the same scaler for test and validation\n",
        "x_val_scaled = scaler.transform(x_val)\n",
        "test_text_scaled_chi = scaler.transform(test_text)\n",
        "\n",
        "#running the SVM on scaled data\n",
        "sv_model2 = LinearSVC(C=0.295,penalty='l1',dual=False)\n",
        "sv_model2.fit(x_train_scaled, y_train)\n",
        "\n",
        "# find the training accuracy\n",
        "\n",
        "#training error on SVM - with scaling\n",
        "train_sv_scaled_chi_pred = sv_model2.predict(x_train_scaled)\n",
        "print(\"training accuracy: \" + str(accuracy_score(y_train, train_sv_scaled_chi_pred)))\n",
        "\n",
        "# find the validation accuracy\n",
        "\n",
        "#validation error on SVM- with scaling\n",
        "val_sv_scaled_chi_pred= sv_model2.predict(x_val_scaled)\n",
        "print(\"validation accuracy: \" + str(accuracy_score(y_val, val_sv_scaled_chi_pred)))"
      ],
      "metadata": {
        "id": "RYnKllz7gkjj"
      },
      "execution_count": null,
      "outputs": []
    },
    {
      "cell_type": "markdown",
      "source": [
        "#####8. LogReg with different solvers"
      ],
      "metadata": {
        "id": "RvyBGZrFiTV_"
      }
    },
    {
      "cell_type": "code",
      "source": [
        "#logregression\n",
        "from sklearn.linear_model import LogisticRegression\n",
        "log_model = LogisticRegression(multi_class='multinomial', solver='lbfgs', penalty='l2', C=0.6, max_iter=500)\n",
        "log_model.fit(x_train, y_train)\n",
        "\n",
        "train_log_pred = log_model.predict(x_train)\n",
        "\n",
        "# find the training accuracy\n",
        "\n",
        "#training error on SVM - with scaling\n",
        "train_log_pred = log_model.predict(x_train)\n",
        "print(\"training accuracy: \" + str(accuracy_score(y_train, train_log_pred)))\n",
        "\n",
        "# find the validation accuracy\n",
        "\n",
        "#validation error on SVM- with scaling\n",
        "val_log_pred= log_model.predict(x_val)\n",
        "print(\"validation accuracy: \" + str(accuracy_score(y_val, val_log_pred)))"
      ],
      "metadata": {
        "id": "XI8-piEuiY-_"
      },
      "execution_count": null,
      "outputs": []
    },
    {
      "cell_type": "markdown",
      "metadata": {
        "id": "ma6pxyvHXHvU"
      },
      "source": [
        "<h3>2.2 Explanation in Words:</h3><p>\n",
        "You need to answer the following questions in a markdown cell after this cell:"
      ]
    },
    {
      "cell_type": "markdown",
      "metadata": {
        "id": "F8QY_YBtXHvU"
      },
      "source": [
        "####2.2.1 How much did you manage to improve performance on the test set? Did you beat \"Zero Hero\" in Kaggle? (Please include a screenshot of Kaggle Submission)\n",
        "\n",
        "Although we did not beat Zero Hero in Kaggle, we came close. Our best solution reached a public score of 0.7347, which is around 0.013 away from Zero Hero's score.\n",
        "\n",
        "####2.2.2 Please explain in detail how you achieved this and what you did specifically and why you tried this.\n",
        "\n",
        "We continued to work on logistic regression, trying different solvers and C values. We also experimented with the ratio of training vs validation data to determine whether it would be worth it to split more of the data into training and less into validation.\n",
        "\n",
        "We then experimented with other models such as SVMs, XGBoost, RandomForest, and BERT, as well as optimizers like GridSearchCV and iterative crosschecking. We changed different C values, penalty types, learning rates, tree depth, etc (see code above). Then, we tried to perform feature reduction with a chi squared selector and a standard scaler. As there are over 12,000 features, we decided that we didn't need to consider all 12,000, as that led to a lot of overfitting. We experimented with how many features to keep, starting from 6000 and going up and down, all the while checking our validation data accuracy. We didn't go with the standard scaler because it produced a worse result compared to the chi-squared selector.\n",
        "\n",
        "When attempting to use GridSearchCV, we quickly realized that it will take a very long time to execute. The first time we used it, it ran for an hour and eventually crashed our kaggle. Therefore, we decided to not use it to save time. For a similar reason, we decided to not loop through all possible values of a hyperparameter - when we tried to do it for the decision tree, it was very inefficient and took a lot of computation power.\n",
        "\n",
        "In the end, the linearSVC gave us the highest competition score. We changed the penalty to 'l1' to avoid overfitting, and experimented with different C values. We found that increasing C increased the accuracy of the model, but sometimes reduced the accuracy of the validation set. Therefore, we decided to go with a decently small value of C at 0.295, since it gave us 76.5% accuracy on our validation dataset. Even though it did not surpass Zero Hero, we were still happy that our score improved."
      ]
    },
    {
      "cell_type": "markdown",
      "source": [
        "![Screenshot 2024-12-09 at 1.05.52 PM.png](data:image/png;base64,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)"
      ],
      "metadata": {
        "id": "83KmFZRdmS_W"
      }
    },
    {
      "cell_type": "markdown",
      "metadata": {
        "id": "JaNXNu1dXHvU"
      },
      "source": [
        "<h2>Part 3: Kaggle Submission</h2><p>\n",
        "You need to generate a prediction CSV using the following cell from your trained model and submit the direct output of your code to Kaggle. The results should be presented in two columns in csv format: the first column is the data id (0-14999) and the second column includes the predictions for the test set. The first column must be named id and the second column must be named label (otherwise your submission will fail). A sample predication file can be downloaded from Kaggle for each problem.\n",
        "We provide how to save a csv file if you are running Notebook on Kaggle."
      ]
    },
    {
      "cell_type": "code",
      "execution_count": null,
      "metadata": {
        "id": "vmIKnbQoXHvV"
      },
      "outputs": [],
      "source": [
        "id = range(15000)\n",
        "prediction = range(15000)\n",
        "submission = pd.DataFrame({'id': id, 'label': prediction})\n",
        "submission.to_csv('/kaggle/working/submission.csv', index=False)"
      ]
    },
    {
      "cell_type": "code",
      "execution_count": null,
      "metadata": {
        "id": "RDuy2YiUXHvV"
      },
      "outputs": [],
      "source": [
        "#submission template that we followed\n",
        "id = range(15000)\n",
        "\n",
        "# replace the model as needed\n",
        "prediction = sv_model2.predict(test_text_scaled_chi)\n",
        "submission = pd.DataFrame({'id': id, 'label': prediction})\n",
        "\n",
        "submission.to_csv('/kaggle/working/submission.csv', index=False)"
      ]
    },
    {
      "cell_type": "markdown",
      "metadata": {
        "id": "8JogpHBdXHvV"
      },
      "source": [
        "<h2>Part 4: Resources and Literature Used</h2><p>"
      ]
    },
    {
      "cell_type": "markdown",
      "metadata": {
        "id": "xi22tZbXXHvV"
      },
      "source": [
        "Please cite the papers and open resources you used."
      ]
    },
    {
      "cell_type": "markdown",
      "metadata": {
        "id": "TtLSa54DXHvV"
      },
      "source": [
        "https://www.intodeeplearning.com/bert-multiclass-text-classification/ for BERT implementation\n",
        "\n",
        "https://scikit-learn.org/1.5/modules/generated/sklearn.linear_model.LogisticRegression.html\n",
        "\n",
        "https://www.atmosera.com/blog/multiclass-classification-with-neural-networks/\n",
        "\n",
        "https://towardsdatascience.com/multi-class-text-classification-with-deep-learning-using-bert-b59ca2f5c613\n",
        "\n",
        "https://scikit-learn.org/1.5/modules/generated/sklearn.svm.LinearSVC.html\n",
        "\n",
        "https://www.analyticsvidhya.com/blog/2023/06/step-by-step-bert-implementation-guide/"
      ]
    }
  ],
  "metadata": {
    "kernelspec": {
      "display_name": "Python 3",
      "language": "python",
      "name": "python3"
    },
    "language_info": {
      "codemirror_mode": {
        "name": "ipython",
        "version": 3
      },
      "file_extension": ".py",
      "mimetype": "text/x-python",
      "name": "python",
      "nbconvert_exporter": "python",
      "pygments_lexer": "ipython3",
      "version": "3.8.3"
    },
    "colab": {
      "provenance": []
    }
  },
  "nbformat": 4,
  "nbformat_minor": 0
}